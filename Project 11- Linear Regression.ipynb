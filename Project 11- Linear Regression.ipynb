{
 "cells": [
  {
   "cell_type": "markdown",
   "metadata": {},
   "source": [
    "# Statement"
   ]
  },
  {
   "cell_type": "markdown",
   "metadata": {},
   "source": [
    "The Sure Tomorrow insurance company wants to solve several tasks with the help of Machine Learning and you are asked to evaluate that possibility.\n",
    "\n",
    "- Task 1: Find customers who are similar to a given customer. This will help the company's agents with marketing.\n",
    "- Task 2: Predict whether a new customer is likely to receive an insurance benefit. Can a prediction model do better than a dummy model?\n",
    "- Task 3: Predict the number of insurance benefits a new customer is likely to receive using a linear regression model.\n",
    "- Task 4: Protect clients' personal data without breaking the model from the previous task. It's necessary to develop a data transformation algorithm that would make it hard to recover personal information if the data fell into the wrong hands. This is called data masking, or data obfuscation. But the data should be protected in such a way that the quality of machine learning models doesn't suffer. You don't need to pick the best model, just prove that the algorithm works correctly."
   ]
  },
  {
   "cell_type": "markdown",
   "metadata": {},
   "source": [
    "# Data Preprocessing & Exploration\n",
    "\n",
    "## Initialization"
   ]
  },
  {
   "cell_type": "code",
   "execution_count": 1,
   "metadata": {},
   "outputs": [],
   "source": [
    "import numpy as np\n",
    "import pandas as pd\n",
    "import math\n",
    "\n",
    "import seaborn as sns\n",
    "\n",
    "import sklearn.linear_model\n",
    "import sklearn.metrics\n",
    "from sklearn.metrics import f1_score, mean_squared_error, r2_score\n",
    "import sklearn.neighbors\n",
    "import sklearn.preprocessing\n",
    "from sklearn.neighbors import NearestNeighbors, KNeighborsClassifier\n",
    "from sklearn.preprocessing import StandardScaler, MaxAbsScaler\n",
    "from matplotlib import pyplot as plt\n",
    "from sklearn.model_selection import train_test_split\n",
    "\n",
    "from IPython.display import display"
   ]
  },
  {
   "cell_type": "markdown",
   "metadata": {},
   "source": [
    "## Load Data"
   ]
  },
  {
   "cell_type": "markdown",
   "metadata": {},
   "source": [
    "Load data and conduct a basic check that it's free from obvious issues."
   ]
  },
  {
   "cell_type": "code",
   "execution_count": 2,
   "metadata": {},
   "outputs": [],
   "source": [
    "df = pd.read_csv('/datasets/insurance_us.csv')"
   ]
  },
  {
   "cell_type": "markdown",
   "metadata": {},
   "source": [
    "We rename the colums to make the code look more consistent with its style."
   ]
  },
  {
   "cell_type": "code",
   "execution_count": 3,
   "metadata": {},
   "outputs": [],
   "source": [
    "df = df.rename(columns={'Gender': 'gender', 'Age': 'age', 'Salary': 'income', 'Family members': 'family_members', 'Insurance benefits': 'insurance_benefits'})"
   ]
  },
  {
   "cell_type": "code",
   "execution_count": 4,
   "metadata": {
    "scrolled": true
   },
   "outputs": [
    {
     "data": {
      "text/html": [
       "<div>\n",
       "<style scoped>\n",
       "    .dataframe tbody tr th:only-of-type {\n",
       "        vertical-align: middle;\n",
       "    }\n",
       "\n",
       "    .dataframe tbody tr th {\n",
       "        vertical-align: top;\n",
       "    }\n",
       "\n",
       "    .dataframe thead th {\n",
       "        text-align: right;\n",
       "    }\n",
       "</style>\n",
       "<table border=\"1\" class=\"dataframe\">\n",
       "  <thead>\n",
       "    <tr style=\"text-align: right;\">\n",
       "      <th></th>\n",
       "      <th>gender</th>\n",
       "      <th>age</th>\n",
       "      <th>income</th>\n",
       "      <th>family_members</th>\n",
       "      <th>insurance_benefits</th>\n",
       "    </tr>\n",
       "  </thead>\n",
       "  <tbody>\n",
       "    <tr>\n",
       "      <th>4663</th>\n",
       "      <td>0</td>\n",
       "      <td>37.0</td>\n",
       "      <td>37800.0</td>\n",
       "      <td>1</td>\n",
       "      <td>0</td>\n",
       "    </tr>\n",
       "    <tr>\n",
       "      <th>2956</th>\n",
       "      <td>0</td>\n",
       "      <td>39.0</td>\n",
       "      <td>35700.0</td>\n",
       "      <td>1</td>\n",
       "      <td>0</td>\n",
       "    </tr>\n",
       "    <tr>\n",
       "      <th>3306</th>\n",
       "      <td>0</td>\n",
       "      <td>31.0</td>\n",
       "      <td>36900.0</td>\n",
       "      <td>0</td>\n",
       "      <td>0</td>\n",
       "    </tr>\n",
       "    <tr>\n",
       "      <th>4055</th>\n",
       "      <td>1</td>\n",
       "      <td>19.0</td>\n",
       "      <td>34800.0</td>\n",
       "      <td>0</td>\n",
       "      <td>0</td>\n",
       "    </tr>\n",
       "    <tr>\n",
       "      <th>3224</th>\n",
       "      <td>0</td>\n",
       "      <td>44.0</td>\n",
       "      <td>50200.0</td>\n",
       "      <td>1</td>\n",
       "      <td>1</td>\n",
       "    </tr>\n",
       "    <tr>\n",
       "      <th>4141</th>\n",
       "      <td>0</td>\n",
       "      <td>28.0</td>\n",
       "      <td>40300.0</td>\n",
       "      <td>0</td>\n",
       "      <td>0</td>\n",
       "    </tr>\n",
       "    <tr>\n",
       "      <th>4791</th>\n",
       "      <td>1</td>\n",
       "      <td>30.0</td>\n",
       "      <td>35400.0</td>\n",
       "      <td>4</td>\n",
       "      <td>0</td>\n",
       "    </tr>\n",
       "    <tr>\n",
       "      <th>4536</th>\n",
       "      <td>0</td>\n",
       "      <td>18.0</td>\n",
       "      <td>46400.0</td>\n",
       "      <td>1</td>\n",
       "      <td>0</td>\n",
       "    </tr>\n",
       "    <tr>\n",
       "      <th>4732</th>\n",
       "      <td>0</td>\n",
       "      <td>39.0</td>\n",
       "      <td>36200.0</td>\n",
       "      <td>3</td>\n",
       "      <td>0</td>\n",
       "    </tr>\n",
       "    <tr>\n",
       "      <th>4621</th>\n",
       "      <td>0</td>\n",
       "      <td>22.0</td>\n",
       "      <td>20800.0</td>\n",
       "      <td>1</td>\n",
       "      <td>0</td>\n",
       "    </tr>\n",
       "  </tbody>\n",
       "</table>\n",
       "</div>"
      ],
      "text/plain": [
       "      gender   age   income  family_members  insurance_benefits\n",
       "4663       0  37.0  37800.0               1                   0\n",
       "2956       0  39.0  35700.0               1                   0\n",
       "3306       0  31.0  36900.0               0                   0\n",
       "4055       1  19.0  34800.0               0                   0\n",
       "3224       0  44.0  50200.0               1                   1\n",
       "4141       0  28.0  40300.0               0                   0\n",
       "4791       1  30.0  35400.0               4                   0\n",
       "4536       0  18.0  46400.0               1                   0\n",
       "4732       0  39.0  36200.0               3                   0\n",
       "4621       0  22.0  20800.0               1                   0"
      ]
     },
     "execution_count": 4,
     "metadata": {},
     "output_type": "execute_result"
    }
   ],
   "source": [
    "df.sample(10)"
   ]
  },
  {
   "cell_type": "code",
   "execution_count": 5,
   "metadata": {
    "scrolled": true
   },
   "outputs": [
    {
     "name": "stdout",
     "output_type": "stream",
     "text": [
      "<class 'pandas.core.frame.DataFrame'>\n",
      "RangeIndex: 5000 entries, 0 to 4999\n",
      "Data columns (total 5 columns):\n",
      " #   Column              Non-Null Count  Dtype  \n",
      "---  ------              --------------  -----  \n",
      " 0   gender              5000 non-null   int64  \n",
      " 1   age                 5000 non-null   float64\n",
      " 2   income              5000 non-null   float64\n",
      " 3   family_members      5000 non-null   int64  \n",
      " 4   insurance_benefits  5000 non-null   int64  \n",
      "dtypes: float64(2), int64(3)\n",
      "memory usage: 195.4 KB\n"
     ]
    }
   ],
   "source": [
    "df.info()"
   ]
  },
  {
   "cell_type": "code",
   "execution_count": 6,
   "metadata": {},
   "outputs": [],
   "source": [
    "# we may want to fix the age type (from float to int) though this is not critical\n",
    "\n",
    "# write your conversion here if you choose:\n",
    "df['age'] = df['age'].astype(int)"
   ]
  },
  {
   "cell_type": "code",
   "execution_count": 7,
   "metadata": {},
   "outputs": [
    {
     "name": "stdout",
     "output_type": "stream",
     "text": [
      "<class 'pandas.core.frame.DataFrame'>\n",
      "RangeIndex: 5000 entries, 0 to 4999\n",
      "Data columns (total 5 columns):\n",
      " #   Column              Non-Null Count  Dtype  \n",
      "---  ------              --------------  -----  \n",
      " 0   gender              5000 non-null   int64  \n",
      " 1   age                 5000 non-null   int64  \n",
      " 2   income              5000 non-null   float64\n",
      " 3   family_members      5000 non-null   int64  \n",
      " 4   insurance_benefits  5000 non-null   int64  \n",
      "dtypes: float64(1), int64(4)\n",
      "memory usage: 195.4 KB\n"
     ]
    }
   ],
   "source": [
    "# check to see that the conversion was successful\n",
    "df.info()"
   ]
  },
  {
   "cell_type": "code",
   "execution_count": 8,
   "metadata": {},
   "outputs": [],
   "source": [
    "# now have a look at the data's descriptive statistics. \n",
    "# Does everything look okay?"
   ]
  },
  {
   "cell_type": "markdown",
   "metadata": {},
   "source": [
    "Yes, it does. there are no null values and the data types are good."
   ]
  },
  {
   "cell_type": "code",
   "execution_count": 9,
   "metadata": {
    "scrolled": true
   },
   "outputs": [
    {
     "data": {
      "text/html": [
       "<div>\n",
       "<style scoped>\n",
       "    .dataframe tbody tr th:only-of-type {\n",
       "        vertical-align: middle;\n",
       "    }\n",
       "\n",
       "    .dataframe tbody tr th {\n",
       "        vertical-align: top;\n",
       "    }\n",
       "\n",
       "    .dataframe thead th {\n",
       "        text-align: right;\n",
       "    }\n",
       "</style>\n",
       "<table border=\"1\" class=\"dataframe\">\n",
       "  <thead>\n",
       "    <tr style=\"text-align: right;\">\n",
       "      <th></th>\n",
       "      <th>gender</th>\n",
       "      <th>age</th>\n",
       "      <th>income</th>\n",
       "      <th>family_members</th>\n",
       "      <th>insurance_benefits</th>\n",
       "    </tr>\n",
       "  </thead>\n",
       "  <tbody>\n",
       "    <tr>\n",
       "      <th>count</th>\n",
       "      <td>5000.000000</td>\n",
       "      <td>5000.000000</td>\n",
       "      <td>5000.000000</td>\n",
       "      <td>5000.000000</td>\n",
       "      <td>5000.000000</td>\n",
       "    </tr>\n",
       "    <tr>\n",
       "      <th>mean</th>\n",
       "      <td>0.499000</td>\n",
       "      <td>30.952800</td>\n",
       "      <td>39916.360000</td>\n",
       "      <td>1.194200</td>\n",
       "      <td>0.148000</td>\n",
       "    </tr>\n",
       "    <tr>\n",
       "      <th>std</th>\n",
       "      <td>0.500049</td>\n",
       "      <td>8.440807</td>\n",
       "      <td>9900.083569</td>\n",
       "      <td>1.091387</td>\n",
       "      <td>0.463183</td>\n",
       "    </tr>\n",
       "    <tr>\n",
       "      <th>min</th>\n",
       "      <td>0.000000</td>\n",
       "      <td>18.000000</td>\n",
       "      <td>5300.000000</td>\n",
       "      <td>0.000000</td>\n",
       "      <td>0.000000</td>\n",
       "    </tr>\n",
       "    <tr>\n",
       "      <th>25%</th>\n",
       "      <td>0.000000</td>\n",
       "      <td>24.000000</td>\n",
       "      <td>33300.000000</td>\n",
       "      <td>0.000000</td>\n",
       "      <td>0.000000</td>\n",
       "    </tr>\n",
       "    <tr>\n",
       "      <th>50%</th>\n",
       "      <td>0.000000</td>\n",
       "      <td>30.000000</td>\n",
       "      <td>40200.000000</td>\n",
       "      <td>1.000000</td>\n",
       "      <td>0.000000</td>\n",
       "    </tr>\n",
       "    <tr>\n",
       "      <th>75%</th>\n",
       "      <td>1.000000</td>\n",
       "      <td>37.000000</td>\n",
       "      <td>46600.000000</td>\n",
       "      <td>2.000000</td>\n",
       "      <td>0.000000</td>\n",
       "    </tr>\n",
       "    <tr>\n",
       "      <th>max</th>\n",
       "      <td>1.000000</td>\n",
       "      <td>65.000000</td>\n",
       "      <td>79000.000000</td>\n",
       "      <td>6.000000</td>\n",
       "      <td>5.000000</td>\n",
       "    </tr>\n",
       "  </tbody>\n",
       "</table>\n",
       "</div>"
      ],
      "text/plain": [
       "            gender          age        income  family_members  \\\n",
       "count  5000.000000  5000.000000   5000.000000     5000.000000   \n",
       "mean      0.499000    30.952800  39916.360000        1.194200   \n",
       "std       0.500049     8.440807   9900.083569        1.091387   \n",
       "min       0.000000    18.000000   5300.000000        0.000000   \n",
       "25%       0.000000    24.000000  33300.000000        0.000000   \n",
       "50%       0.000000    30.000000  40200.000000        1.000000   \n",
       "75%       1.000000    37.000000  46600.000000        2.000000   \n",
       "max       1.000000    65.000000  79000.000000        6.000000   \n",
       "\n",
       "       insurance_benefits  \n",
       "count         5000.000000  \n",
       "mean             0.148000  \n",
       "std              0.463183  \n",
       "min              0.000000  \n",
       "25%              0.000000  \n",
       "50%              0.000000  \n",
       "75%              0.000000  \n",
       "max              5.000000  "
      ]
     },
     "execution_count": 9,
     "metadata": {},
     "output_type": "execute_result"
    }
   ],
   "source": [
    "df.describe()"
   ]
  },
  {
   "cell_type": "markdown",
   "metadata": {},
   "source": [
    "The average age is 30.95 or 31 years old if rounded up. Ages range from 18 to 65 years old.\n",
    "\n",
    "The income range is modest, with the average being around 40000. Incomes range from $5,300 to $79,000.\n",
    "\n",
    "The average number of family member is close to 1 when rounded. The number of family members ranges from 0 to 6.\n",
    "\n",
    "The mean value of insurance benefits is 0.148, indicating that approximately 14.8% of individuals have insurance benefits."
   ]
  },
  {
   "cell_type": "markdown",
   "metadata": {},
   "source": [
    "## EDA"
   ]
  },
  {
   "cell_type": "markdown",
   "metadata": {},
   "source": [
    "Let's quickly check whether there are certain groups of customers by looking at the pair plot."
   ]
  },
  {
   "cell_type": "code",
   "execution_count": 10,
   "metadata": {},
   "outputs": [
    {
     "data": {
      "image/png": "[encoded data removed]",
      "text/plain": [
       "<Figure size 1200x1200 with 30 Axes>"
      ]
     },
     "metadata": {},
     "output_type": "display_data"
    }
   ],
   "source": [
    "g = sns.pairplot(df, kind='hist')\n",
    "g.fig.set_size_inches(12, 12)"
   ]
  },
  {
   "cell_type": "markdown",
   "metadata": {},
   "source": [
    "Ok, it is a bit difficult to spot obvious groups (clusters) as it is difficult to combine several variables simultaneously (to analyze multivariate distributions). That's where LA and ML can be quite handy."
   ]
  },
  {
   "cell_type": "markdown",
   "metadata": {},
   "source": [
    "# Task 1. Similar Customers"
   ]
  },
  {
   "cell_type": "markdown",
   "metadata": {},
   "source": [
    "In the language of ML, it is necessary to develop a procedure that returns k nearest neighbors (objects) for a given object based on the distance between the objects.\n",
    "\n",
    "You may want to review the following lessons (chapter -> lesson)\n",
    "- Distance Between Vectors -> Euclidean Distance\n",
    "- Distance Between Vectors -> Manhattan Distance\n",
    "\n",
    "To solve the task, we can try different distance metrics."
   ]
  },
  {
   "cell_type": "markdown",
   "metadata": {},
   "source": [
    "Write a function that returns k nearest neighbors for an $n^{th}$ object based on a specified distance metric. The number of received insurance benefits should not be taken into account for this task. \n",
    "\n",
    "You can use a ready implementation of the kNN algorithm from scikit-learn (check [the link](https://scikit-learn.org/stable/modules/generated/sklearn.neighbors.NearestNeighbors.html#sklearn.neighbors.NearestNeighbors)) or use your own.\n",
    "\n",
    "Test it for four combination of two cases\n",
    "- Scaling\n",
    "  - the data is not scaled\n",
    "  - the data is scaled with the [MaxAbsScaler](https://scikit-learn.org/stable/modules/generated/sklearn.preprocessing.MaxAbsScaler.html) scaler\n",
    "- Distance Metrics\n",
    "  - Euclidean\n",
    "  - Manhattan\n",
    "\n",
    "Answer these questions:\n",
    "- Does the data being not scaled affect the kNN algorithm? If so, how does that appear?\n",
    "- How similar are the results using the Manhattan distance metric (regardless of the scaling)?"
   ]
  },
  {
   "cell_type": "code",
   "execution_count": 11,
   "metadata": {},
   "outputs": [],
   "source": [
    "feature_names = ['gender', 'age', 'income', 'family_members']"
   ]
  },
  {
   "cell_type": "code",
   "execution_count": 12,
   "metadata": {},
   "outputs": [],
   "source": [
    "def get_knn(df, n, k, metric, X):\n",
    "    \n",
    "    \"\"\"\n",
    "    Returns k nearest neighbors\n",
    "\n",
    "    :param df: pandas DataFrame used to find similar objects within\n",
    "    :param n: object no for which the nearest neighbours are looked for\n",
    "    :param k: the number of the nearest neighbours to return\n",
    "    :param metric: name of distance metric\n",
    "    \"\"\"\n",
    "    \n",
    "    if metric == 'euclidean':\n",
    "        nbrs = NearestNeighbors(metric='euclidean', n_neighbors=k+1).fit(X)\n",
    "    elif metric == 'manhattan':\n",
    "        nbrs = NearestNeighbors(metric='manhattan', n_neighbors=k+1).fit(X)\n",
    "    else:\n",
    "        raise ValueError(\"Unsupported distance metric. Choose 'euclidean' or 'manhattan'.\")\n",
    "    \n",
    "\n",
    "    nbrs = NearestNeighbors(metric=metric, n_neighbors=k+1).fit(X)\n",
    "    nbrs_distances, nbrs_indices = nbrs.kneighbors([df.iloc[n][feature_names]], k, return_distance=True)\n",
    "    \n",
    "    df_res = pd.concat([\n",
    "        df.iloc[nbrs_indices[0]], \n",
    "        pd.DataFrame(nbrs_distances.T, index=nbrs_indices[0], columns=['distance'])\n",
    "        ], axis=1)\n",
    "    \n",
    "    return df_res"
   ]
  },
  {
   "cell_type": "markdown",
   "metadata": {},
   "source": [
    "Scaling the data."
   ]
  },
  {
   "cell_type": "code",
   "execution_count": 13,
   "metadata": {},
   "outputs": [],
   "source": [
    "feature_names = ['gender', 'age', 'income', 'family_members']\n",
    "\n",
    "transformer_mas = sklearn.preprocessing.MaxAbsScaler().fit(df[feature_names].to_numpy())\n",
    "\n",
    "df_scaled = df.copy()\n",
    "df_scaled.loc[:, feature_names] = transformer_mas.transform(df[feature_names].to_numpy())"
   ]
  },
  {
   "cell_type": "code",
   "execution_count": 14,
   "metadata": {},
   "outputs": [
    {
     "data": {
      "text/html": [
       "<div>\n",
       "<style scoped>\n",
       "    .dataframe tbody tr th:only-of-type {\n",
       "        vertical-align: middle;\n",
       "    }\n",
       "\n",
       "    .dataframe tbody tr th {\n",
       "        vertical-align: top;\n",
       "    }\n",
       "\n",
       "    .dataframe thead th {\n",
       "        text-align: right;\n",
       "    }\n",
       "</style>\n",
       "<table border=\"1\" class=\"dataframe\">\n",
       "  <thead>\n",
       "    <tr style=\"text-align: right;\">\n",
       "      <th></th>\n",
       "      <th>gender</th>\n",
       "      <th>age</th>\n",
       "      <th>income</th>\n",
       "      <th>family_members</th>\n",
       "      <th>insurance_benefits</th>\n",
       "    </tr>\n",
       "  </thead>\n",
       "  <tbody>\n",
       "    <tr>\n",
       "      <th>1383</th>\n",
       "      <td>1.0</td>\n",
       "      <td>0.538462</td>\n",
       "      <td>0.518987</td>\n",
       "      <td>0.000000</td>\n",
       "      <td>0</td>\n",
       "    </tr>\n",
       "    <tr>\n",
       "      <th>1367</th>\n",
       "      <td>1.0</td>\n",
       "      <td>0.692308</td>\n",
       "      <td>0.521519</td>\n",
       "      <td>0.166667</td>\n",
       "      <td>1</td>\n",
       "    </tr>\n",
       "    <tr>\n",
       "      <th>2857</th>\n",
       "      <td>0.0</td>\n",
       "      <td>0.400000</td>\n",
       "      <td>0.236709</td>\n",
       "      <td>0.000000</td>\n",
       "      <td>0</td>\n",
       "    </tr>\n",
       "    <tr>\n",
       "      <th>305</th>\n",
       "      <td>1.0</td>\n",
       "      <td>0.415385</td>\n",
       "      <td>0.601266</td>\n",
       "      <td>0.500000</td>\n",
       "      <td>0</td>\n",
       "    </tr>\n",
       "    <tr>\n",
       "      <th>1565</th>\n",
       "      <td>0.0</td>\n",
       "      <td>0.323077</td>\n",
       "      <td>0.592405</td>\n",
       "      <td>0.500000</td>\n",
       "      <td>0</td>\n",
       "    </tr>\n",
       "  </tbody>\n",
       "</table>\n",
       "</div>"
      ],
      "text/plain": [
       "      gender       age    income  family_members  insurance_benefits\n",
       "1383     1.0  0.538462  0.518987        0.000000                   0\n",
       "1367     1.0  0.692308  0.521519        0.166667                   1\n",
       "2857     0.0  0.400000  0.236709        0.000000                   0\n",
       "305      1.0  0.415385  0.601266        0.500000                   0\n",
       "1565     0.0  0.323077  0.592405        0.500000                   0"
      ]
     },
     "execution_count": 14,
     "metadata": {},
     "output_type": "execute_result"
    }
   ],
   "source": [
    "df_scaled.sample(5)"
   ]
  },
  {
   "cell_type": "markdown",
   "metadata": {},
   "source": [
    "Now, let's get similar records for a given one for every combination"
   ]
  },
  {
   "cell_type": "code",
   "execution_count": 15,
   "metadata": {},
   "outputs": [
    {
     "name": "stdout",
     "output_type": "stream",
     "text": [
      "Unscaled Data with Euclidean Distance\n",
      "      gender  age   income  family_members  insurance_benefits  distance\n",
      "0          1   41  49600.0               1                   0  0.000000\n",
      "2022       1   41  49600.0               0                   0  1.000000\n",
      "1225       0   42  49600.0               0                   1  1.732051\n"
     ]
    }
   ],
   "source": [
    "# Parameters\n",
    "n = 0  # Index of the target object\n",
    "k = 3  # Number of nearest neighbors\n",
    "\n",
    "# Test 1: Unscaled data with Euclidean distance\n",
    "result_unscaled_euclidean = get_knn(df, n, k, 'euclidean', df[feature_names])\n",
    "print(\"Unscaled Data with Euclidean Distance\")\n",
    "print(result_unscaled_euclidean)"
   ]
  },
  {
   "cell_type": "code",
   "execution_count": 16,
   "metadata": {},
   "outputs": [
    {
     "name": "stdout",
     "output_type": "stream",
     "text": [
      "Scaled Data with Euclidean Distance\n",
      "      gender       age    income  family_members  insurance_benefits  distance\n",
      "0        1.0  0.630769  0.627848        0.166667                   0  0.000000\n",
      "2689     1.0  0.630769  0.634177        0.166667                   0  0.006329\n",
      "133      1.0  0.615385  0.636709        0.166667                   0  0.017754\n"
     ]
    }
   ],
   "source": [
    "# Test 2: Scaled data with Euclidean distance\n",
    "result_scaled_euclidean = get_knn(df_scaled, n, k, 'euclidean', df_scaled[feature_names])\n",
    "print(\"Scaled Data with Euclidean Distance\")\n",
    "print(result_scaled_euclidean)"
   ]
  },
  {
   "cell_type": "code",
   "execution_count": 17,
   "metadata": {},
   "outputs": [
    {
     "name": "stdout",
     "output_type": "stream",
     "text": [
      "Unscaled Data with Manhattan Distance\n",
      "      gender  age   income  family_members  insurance_benefits  distance\n",
      "0          1   41  49600.0               1                   0       0.0\n",
      "2022       1   41  49600.0               0                   0       1.0\n",
      "1225       0   42  49600.0               0                   1       3.0\n"
     ]
    }
   ],
   "source": [
    "# Test 3: Unscaled data with Manhattan distance\n",
    "result_unscaled_manhattan = get_knn(df, n, k, 'manhattan', df[feature_names])\n",
    "print(\"Unscaled Data with Manhattan Distance\")\n",
    "print(result_unscaled_manhattan)"
   ]
  },
  {
   "cell_type": "code",
   "execution_count": 18,
   "metadata": {
    "scrolled": true
   },
   "outputs": [
    {
     "name": "stdout",
     "output_type": "stream",
     "text": [
      "Scaled Data with Manhattan Distance\n",
      "      gender       age    income  family_members  insurance_benefits  distance\n",
      "0        1.0  0.630769  0.627848        0.166667                   0  0.000000\n",
      "2689     1.0  0.630769  0.634177        0.166667                   0  0.006329\n",
      "133      1.0  0.615385  0.636709        0.166667                   0  0.024245\n"
     ]
    }
   ],
   "source": [
    "# Test 4: Scaled data with Manhattan distance\n",
    "result_scaled_manhattan = get_knn(df_scaled, n, k, 'manhattan', df_scaled[feature_names])\n",
    "print(\"Scaled Data with Manhattan Distance\")\n",
    "print(result_scaled_manhattan)"
   ]
  },
  {
   "cell_type": "markdown",
   "metadata": {},
   "source": [
    "Answers to the questions"
   ]
  },
  {
   "cell_type": "markdown",
   "metadata": {},
   "source": [
    "**Does the data being not scaled affect the kNN algorithm? If so, how does that appear?** \n",
    "\n",
    "### Answer\n",
    "Yes, not scaling the data can significantly affect the kNN algorithm by allowing features with larger ranges to dominate the distance calculations, the kNN algorithm may primarily consider differences in the 'income' feature while ignoring or underweighting other features. This results in a biased neighbor selection that heavily weighs one feature over others. Scaling the data ensures that all features are considered equally, leading to a more balanced and accurate identification of nearest neighbors."
   ]
  },
  {
   "cell_type": "markdown",
   "metadata": {},
   "source": [
    "**How similar are the results using the Manhattan distance metric (regardless of the scaling)?** \n",
    "\n",
    "### Answer \n",
    "\n",
    "The results using the Manhattan distance metric are quite similar regardless of scaling. The nearest neighbors remain consistent in both the scaled and unscaled cases. Scaling affects the magnitude of the distances, making them smaller and more normalized, but the order of the neighbors remains the same.\n",
    "\n",
    "This consistency demonstrates that the Manhattan distance metric is relatively robust to scaling compared to the Euclidean distance metric. Scaling helps in providing a normalized perspective on distances but does not dramatically change the neighbor selection when using Manhattan distance."
   ]
  },
  {
   "cell_type": "markdown",
   "metadata": {},
   "source": [
    "# Task 2. Is Customer Likely to Receive Insurance Benefit?"
   ]
  },
  {
   "cell_type": "markdown",
   "metadata": {},
   "source": [
    "In terms of machine learning we can look at this like a binary classification task."
   ]
  },
  {
   "cell_type": "markdown",
   "metadata": {},
   "source": [
    "With `insurance_benefits` being more than zero as the target, evaluate whether the kNN classification approach can do better than a dummy model.\n",
    "\n",
    "Instructions:\n",
    "- Build a KNN-based classifier and measure its quality with the F1 metric for k=1..10 for both the original data and the scaled one. That'd be interesting to see how k may influece the evaluation metric, and whether scaling the data makes any difference. You can use a ready implemention of the kNN classification algorithm from scikit-learn (check [the link](https://scikit-learn.org/stable/modules/generated/sklearn.neighbors.KNeighborsClassifier.html)) or use your own.\n",
    "- Build the dummy model which is just random for this case. It should return \"1\" with some probability. Let's test the model with four probability values: 0, the probability of paying any insurance benefit, 0.5, 1.\n",
    "\n",
    "The probability of paying any insurance benefit can be defined as\n",
    "\n",
    "$$\n",
    "P\\{\\text{insurance benefit received}\\}=\\frac{\\text{number of clients received any insurance benefit}}{\\text{total number of clients}}.\n",
    "$$\n",
    "\n",
    "Split the whole data in the 70:30 proportion for the training/testing parts."
   ]
  },
  {
   "cell_type": "code",
   "execution_count": 19,
   "metadata": {},
   "outputs": [],
   "source": [
    "# calculate the target\n",
    "\n",
    "df['insurance_benefits_received'] = df['insurance_benefits'] > 0"
   ]
  },
  {
   "cell_type": "code",
   "execution_count": 20,
   "metadata": {},
   "outputs": [
    {
     "data": {
      "text/plain": [
       "False    4436\n",
       "True      564\n",
       "Name: insurance_benefits_received, dtype: int64"
      ]
     },
     "execution_count": 20,
     "metadata": {},
     "output_type": "execute_result"
    }
   ],
   "source": [
    "# check for the class imbalance with value_counts()\n",
    "\n",
    "class_count = df['insurance_benefits_received'].value_counts()\n",
    "class_count"
   ]
  },
  {
   "cell_type": "markdown",
   "metadata": {},
   "source": [
    "This indicates a class imbalance issue where the class labeled as False (no insurance benefits received) significantly outweighs the class labeled as True (insurance benefits received). Class imbalance can potentially affect the performance of our machine learning models, especially when evaluating metrics like accuracy, where the majority class could dominate the results."
   ]
  },
  {
   "cell_type": "code",
   "execution_count": 21,
   "metadata": {},
   "outputs": [],
   "source": [
    "def eval_classifier(y_true, y_pred):\n",
    "    \n",
    "    f1_score = sklearn.metrics.f1_score(y_true, y_pred)\n",
    "    print(f'F1: {f1_score:.2f}')\n",
    "    \n",
    "# if you have an issue with the following line, restart the kernel and run the notebook again\n",
    "    cm = sklearn.metrics.confusion_matrix(y_true, y_pred, normalize='all')\n",
    "    print('Confusion Matrix')\n",
    "    print(cm)"
   ]
  },
  {
   "cell_type": "code",
   "execution_count": 22,
   "metadata": {},
   "outputs": [],
   "source": [
    "# generating output of a random model\n",
    "\n",
    "def rnd_model_predict(P, size, seed=42):\n",
    "\n",
    "    rng = np.random.default_rng(seed=seed)\n",
    "    return rng.binomial(n=1, p=P, size=size)"
   ]
  },
  {
   "cell_type": "code",
   "execution_count": 23,
   "metadata": {
    "scrolled": false
   },
   "outputs": [
    {
     "name": "stdout",
     "output_type": "stream",
     "text": [
      "The probability: 0.00\n",
      "F1: 0.00\n",
      "Confusion Matrix\n",
      "[[0.8872 0.    ]\n",
      " [0.1128 0.    ]]\n",
      "\n",
      "The probability: 0.11\n",
      "F1: 0.12\n",
      "Confusion Matrix\n",
      "[[0.7914 0.0958]\n",
      " [0.0994 0.0134]]\n",
      "\n",
      "The probability: 0.50\n",
      "F1: 0.20\n",
      "Confusion Matrix\n",
      "[[0.456  0.4312]\n",
      " [0.053  0.0598]]\n",
      "\n",
      "The probability: 1.00\n",
      "F1: 0.20\n",
      "Confusion Matrix\n",
      "[[0.     0.8872]\n",
      " [0.     0.1128]]\n",
      "\n"
     ]
    }
   ],
   "source": [
    "for P in [0, df['insurance_benefits_received'].sum() / len(df), 0.5, 1]:\n",
    "\n",
    "    print(f'The probability: {P:.2f}')\n",
    "    y_pred_rnd = rnd_model_predict(P, len(df))\n",
    "        \n",
    "    eval_classifier(df['insurance_benefits_received'], y_pred_rnd)\n",
    "    \n",
    "    print()"
   ]
  },
  {
   "cell_type": "code",
   "execution_count": 24,
   "metadata": {},
   "outputs": [],
   "source": [
    "# Define F1 Score Calculation function\n",
    "def calculate_f1(y_true, y_pred):\n",
    "    return f1_score(y_true, y_pred, average='binary')"
   ]
  },
  {
   "cell_type": "code",
   "execution_count": 26,
   "metadata": {},
   "outputs": [],
   "source": [
    "# Prepare feature matrix X and target vector y for original data\n",
    "X = df[feature_names].to_numpy()\n",
    "y = df['insurance_benefits_received'].to_numpy()\n",
    "\n",
    "# Scale the feature data\n",
    "transformer_mas = MaxAbsScaler().fit(X)\n",
    "X_scaled = transformer_mas.transform(X)\n",
    "y_scaled = df['insurance_benefits_received'].to_numpy()\n",
    "\n",
    "# Split Data\n",
    "X_train, X_test, y_train, y_test = train_test_split(X, y, test_size=0.3, random_state=12345)\n",
    "# Split data into training and testing sets\n",
    "X_train_scaled, X_test_scaled, y_train_scaled, y_test_scaled = train_test_split(X_scaled, y_scaled, test_size=0.3, random_state=12345)"
   ]
  },
  {
   "cell_type": "code",
   "execution_count": 27,
   "metadata": {
    "scrolled": true
   },
   "outputs": [
    {
     "name": "stdout",
     "output_type": "stream",
     "text": [
      "k=1: F1 Score (Original) = 0.78, F1 Score (Scaled) = 0.98\n",
      "k=2: F1 Score (Original) = 0.68, F1 Score (Scaled) = 0.96\n",
      "k=3: F1 Score (Original) = 0.68, F1 Score (Scaled) = 0.97\n",
      "k=4: F1 Score (Original) = 0.61, F1 Score (Scaled) = 0.95\n",
      "k=5: F1 Score (Original) = 0.61, F1 Score (Scaled) = 0.96\n",
      "k=6: F1 Score (Original) = 0.53, F1 Score (Scaled) = 0.95\n",
      "k=7: F1 Score (Original) = 0.53, F1 Score (Scaled) = 0.96\n",
      "k=8: F1 Score (Original) = 0.51, F1 Score (Scaled) = 0.95\n",
      "k=9: F1 Score (Original) = 0.51, F1 Score (Scaled) = 0.95\n",
      "k=10: F1 Score (Original) = 0.47, F1 Score (Scaled) = 0.93\n"
     ]
    }
   ],
   "source": [
    "# Build kNN Classifier and Evaluate\n",
    "k_values = range(1, 11)\n",
    "f1_scores_original = []\n",
    "f1_scores_scaled = []\n",
    "\n",
    "for k in k_values:\n",
    "    # Create kNN classifier for original data\n",
    "    knn_original = KNeighborsClassifier(n_neighbors=k)\n",
    "    \n",
    "    # Fit classifier on original data\n",
    "    knn_original.fit(X_train, y_train)\n",
    "    \n",
    "    # Predict on test data for original data\n",
    "    y_pred_original = knn_original.predict(X_test)\n",
    "    \n",
    "    # Calculate F1 score for original data\n",
    "    f1_original = f1_score(y_test, y_pred_original, average='macro')\n",
    "    f1_scores_original.append(f1_original)\n",
    "    \n",
    "    # Create kNN classifier for scaled data\n",
    "    knn_scaled = KNeighborsClassifier(n_neighbors=k)\n",
    "    \n",
    "    # Fit classifier on scaled data\n",
    "    knn_scaled.fit(X_train_scaled, y_train_scaled)\n",
    "    \n",
    "    # Predict on test data for scaled data\n",
    "    y_pred_scaled = knn_scaled.predict(X_test_scaled)\n",
    "    \n",
    "    # Calculate F1 score for scaled data\n",
    "    f1_scaled = f1_score(y_test_scaled, y_pred_scaled, average='macro')\n",
    "    f1_scores_scaled.append(f1_scaled)\n",
    "    \n",
    "    # Print F1 scores for each k value\n",
    "    print(f'k={k}: F1 Score (Original) = {f1_original:.2f}, F1 Score (Scaled) = {f1_scaled:.2f}')"
   ]
  },
  {
   "cell_type": "code",
   "execution_count": 28,
   "metadata": {
    "scrolled": false
   },
   "outputs": [
    {
     "data": {
      "image/png": "[encoded data removed]",
      "text/plain": [
       "<Figure size 1000x600 with 1 Axes>"
      ]
     },
     "metadata": {},
     "output_type": "display_data"
    }
   ],
   "source": [
    "plt.figure(figsize=(10, 6))\n",
    "plt.plot(k_values, f1_scores_original, marker='o', linestyle='-', color='b', label='Original Data')\n",
    "plt.plot(k_values, f1_scores_scaled, marker='o', linestyle='-', color='r', label='Scaled Data')\n",
    "plt.title('F1 Score vs. Number of Neighbors (k) for kNN Classifier')\n",
    "plt.xlabel('Number of Neighbors (k)')\n",
    "plt.ylabel('F1 Score')\n",
    "plt.xticks(k_values)\n",
    "plt.legend()\n",
    "plt.grid(True)\n",
    "plt.show()"
   ]
  },
  {
   "cell_type": "markdown",
   "metadata": {},
   "source": [
    "### KNN\n",
    "Scaling the data can have a substantial impact on the performance of k-NN classifiers, as demonstrated by the improved F1 scores. This highlights the importance of preprocessing steps like feature scaling in machine learning workflows."
   ]
  },
  {
   "cell_type": "markdown",
   "metadata": {},
   "source": [
    "### Dummy Interpretation\n",
    "Probability: 0.00 \n",
    "\n",
    "F1 score of 0.00\n",
    "- Interpretation: With a probability of 0.00 (predicting 0 for all cases), the dummy classifier correctly predicts the majority class (0) most of the time (88.72%), but it fails to predict any instances of the minority class (1)"
   ]
  },
  {
   "cell_type": "markdown",
   "metadata": {},
   "source": [
    "Probability: 0.11\n",
    "\n",
    "F1 Score: 0.12\n",
    "- Interpretation: With a probability of 0.11, the dummy classifier starts predicting some instances as 1 (minority class), leading to a slight improvement in the F1 score. However, it still struggles to correctly identify the minority class, resulting in a low F1 score."
   ]
  },
  {
   "cell_type": "markdown",
   "metadata": {},
   "source": [
    "Probability: 0.50\n",
    "\n",
    "F1 Score: 0.20\n",
    "- Interpretation: At a probability of 0.50 (random guessing), the dummy classifier predicts both classes almost equally (due to the balance of probabilities), resulting in an F1 score of 0.20. The confusion matrix shows some correct predictions for both classes but is still quite inaccurate."
   ]
  },
  {
   "cell_type": "markdown",
   "metadata": {},
   "source": [
    "Probability: 1.00\n",
    "\n",
    "F1 Score: 0.20\n",
    "- Interpretation: With a probability of 1.00 (predicting 1 for all cases), the dummy classifier predicts all instances as 1. This results in correctly predicting some instances of the minority class (1), but none of the majority class (0), leading to an F1 score of 0.20."
   ]
  },
  {
   "cell_type": "markdown",
   "metadata": {},
   "source": [
    "The dummy classifier's performance improves slightly as it starts predicting more instances of the minority class (1), leading to better F1 scores compared to the 0.00 probability case.\n",
    "However, even at the optimal scenario (probability 0.50), the F1 score remains low (0.20), indicating poor overall performance in correctly classifying instances compared to a balanced dataset."
   ]
  },
  {
   "cell_type": "markdown",
   "metadata": {},
   "source": [
    "# Task 3. Regression (with Linear Regression)"
   ]
  },
  {
   "cell_type": "markdown",
   "metadata": {},
   "source": [
    "With `insurance_benefits` as the target, evaluate what RMSE would be for a Linear Regression model."
   ]
  },
  {
   "cell_type": "markdown",
   "metadata": {},
   "source": [
    "Build your own implementation of LR. For that, recall how the linear regression task's solution is formulated in terms of LA. Check RMSE for both the original data and the scaled one. Can you see any difference in RMSE between these two cases?\n",
    "\n",
    "Let's denote\n",
    "- $X$ — feature matrix, each row is a case, each column is a feature, the first column consists of unities\n",
    "- $y$ — target (a vector)\n",
    "- $\\hat{y}$ — estimated tagret (a vector)\n",
    "- $w$ — weight vector\n",
    "\n",
    "The task of linear regression in the language of matrices can be formulated as\n",
    "\n",
    "$$\n",
    "y = Xw\n",
    "$$\n",
    "\n",
    "The training objective then is to find such $w$ that it would minimize the L2-distance (MSE) between $Xw$ and $y$:\n",
    "\n",
    "$$\n",
    "\\min_w d_2(Xw, y) \\quad \\text{or} \\quad \\min_w \\text{MSE}(Xw, y)\n",
    "$$\n",
    "\n",
    "It appears that there is analytical solution for the above:\n",
    "\n",
    "$$\n",
    "w = (X^T X)^{-1} X^T y\n",
    "$$\n",
    "\n",
    "The formula above can be used to find the weights $w$ and the latter can be used to calculate predicted values\n",
    "\n",
    "$$\n",
    "\\hat{y} = X_{val}w\n",
    "$$"
   ]
  },
  {
   "cell_type": "markdown",
   "metadata": {},
   "source": [
    "Split the whole data in the 70:30 proportion for the training/validation parts. Use the RMSE metric for the model evaluation."
   ]
  },
  {
   "cell_type": "code",
   "execution_count": null,
   "metadata": {},
   "outputs": [],
   "source": [
    "class MyLinearRegression:\n",
    "    \n",
    "    def __init__(self):\n",
    "        \n",
    "        self.weights = None\n",
    "    \n",
    "    def fit(self, X, y):\n",
    "        # Add a column of ones for the intercept term\n",
    "        ones = np.ones((X.shape[0], 1))\n",
    "        X2 = np.concatenate((ones, X), axis=1)\n",
    "        \n",
    "        # Calculate weights using the normal equation: w = (X^T * X)^-1 * X^T * y\n",
    "        XTX_inv = np.linalg.inv(np.dot(X2.T, X2))\n",
    "        self.weights = np.dot(np.dot(XTX_inv, X2.T), y)\n",
    "\n",
    "    def predict(self, X):\n",
    "        \n",
    "        # Add a column of ones for the intercept term\n",
    "        ones = np.ones((X.shape[0], 1))\n",
    "        X2 = np.concatenate((ones, X), axis=1)\n",
    "        \n",
    "        # Predictions\n",
    "        y_pred = np.dot(X2, self.weights)\n",
    "        \n",
    "        return y_pred"
   ]
  },
  {
   "cell_type": "code",
   "execution_count": null,
   "metadata": {},
   "outputs": [],
   "source": [
    "def eval_regressor(y_true, y_pred):\n",
    "    rmse = math.sqrt(mean_squared_error(y_true, y_pred))\n",
    "    r2 = r2_score(y_true, y_pred)\n",
    "    return rmse, r2"
   ]
  },
  {
   "cell_type": "code",
   "execution_count": null,
   "metadata": {},
   "outputs": [],
   "source": [
    "X = df[['age', 'gender', 'income', 'family_members']].to_numpy()\n",
    "y = df['insurance_benefits'].to_numpy()\n",
    "\n",
    "# Scale the feature data\n",
    "transformer_mas = MaxAbsScaler().fit(X)\n",
    "X_scaled = transformer_mas.transform(X)\n",
    "\n",
    "# Split data into training and testing sets for original data\n",
    "X_train, X_test, y_train, y_test = train_test_split(X, y, test_size=0.3, random_state=12345)\n",
    "\n",
    "# Split data into training and testing sets for scaled data\n",
    "X_train_scaled, X_test_scaled, y_train_scaled, y_test_scaled = train_test_split(X_scaled, y, test_size=0.3, random_state=12345)"
   ]
  },
  {
   "cell_type": "code",
   "execution_count": null,
   "metadata": {},
   "outputs": [],
   "source": [
    "X = df[['age', 'gender', 'income', 'family_members']].to_numpy()\n",
    "y = df['insurance_benefits'].to_numpy()\n",
    "\n",
    "# Initialize and fit the model for original data\n",
    "lr_original = MyLinearRegression()\n",
    "lr_original.fit(X_train, y_train)\n",
    "y_test_pred_original = lr_original.predict(X_test)\n",
    "rmse_original, r2_original = eval_regressor(y_test, y_test_pred_original)\n",
    "print(f'Original Data RMSE: {rmse_original:.2f}, R2: {r2_original:.2f}')"
   ]
  },
  {
   "cell_type": "code",
   "execution_count": null,
   "metadata": {},
   "outputs": [],
   "source": [
    "# Initialize and fit the model for scaled data\n",
    "lr_scaled = MyLinearRegression()\n",
    "lr_scaled.fit(X_train_scaled, y_train_scaled)\n",
    "y_test_pred_scaled = lr_scaled.predict(X_test_scaled)\n",
    "rmse_scaled, r2_scaled = eval_regressor(y_test_scaled, y_test_pred_scaled)\n",
    "print(f'Scaled Data RMSE: {rmse_scaled:.2f}, R2: {r2_scaled:.2f}')"
   ]
  },
  {
   "cell_type": "markdown",
   "metadata": {},
   "source": [
    "# Task 4. Obfuscating Data"
   ]
  },
  {
   "cell_type": "markdown",
   "metadata": {},
   "source": [
    "It best to obfuscate data by multiplying the numerical features (remember, they can be seen as the matrix $X$) by an invertible matrix $P$. \n",
    "\n",
    "$$\n",
    "X' = X \\times P\n",
    "$$\n",
    "\n",
    "Try to do that and check how the features' values will look like after the transformation. By the way, the intertible property is important here so make sure that $P$ is indeed invertible.\n",
    "\n",
    "You may want to review the 'Matrices and Matrix Operations -> Matrix Multiplication' lesson to recall the rule of matrix multiplication and its implementation with NumPy."
   ]
  },
  {
   "cell_type": "code",
   "execution_count": null,
   "metadata": {},
   "outputs": [],
   "source": [
    "personal_info_column_list = ['gender', 'age', 'income', 'family_members']\n",
    "df_pn = df[personal_info_column_list]"
   ]
  },
  {
   "cell_type": "code",
   "execution_count": null,
   "metadata": {},
   "outputs": [],
   "source": [
    "X = df_pn.to_numpy()"
   ]
  },
  {
   "cell_type": "markdown",
   "metadata": {},
   "source": [
    "Generating a random matrix $P$."
   ]
  },
  {
   "cell_type": "code",
   "execution_count": null,
   "metadata": {},
   "outputs": [],
   "source": [
    "rng = np.random.default_rng(seed=42)\n",
    "P = rng.random(size=(X.shape[1], X.shape[1]))"
   ]
  },
  {
   "cell_type": "markdown",
   "metadata": {},
   "source": [
    "Checking the matrix $P$ is invertible"
   ]
  },
  {
   "cell_type": "code",
   "execution_count": null,
   "metadata": {},
   "outputs": [],
   "source": [
    "P_inv = np.linalg.inv(P)\n",
    "P_inv"
   ]
  },
  {
   "cell_type": "markdown",
   "metadata": {},
   "source": [
    "Can you guess the customers' ages or income after the transformation?"
   ]
  },
  {
   "cell_type": "code",
   "execution_count": null,
   "metadata": {
    "scrolled": true
   },
   "outputs": [],
   "source": [
    "# Obfuscate the data: X' = X * P\n",
    "X_obfuscated = np.dot(X, P)"
   ]
  },
  {
   "cell_type": "markdown",
   "metadata": {},
   "source": [
    "### Answer\n",
    "The obfuscation process effectively hides the original data, making it impossible to guess specific values without the inverse matrix.\n",
    "The original data can be accurately recovered using the inverse of the obfuscation matrix, demonstrating the correctness of the obfuscation and recovery process.\n",
    "Small numerical inaccuracies in the recovered data are typical in floating-point arithmetic but do not affect the overall integrity of the recovered data."
   ]
  },
  {
   "cell_type": "markdown",
   "metadata": {},
   "source": [
    "Can you recover the original data from $X'$ if you know $P$? Try to check that with calculations by moving $P$ from the right side of the formula above to the left one. The rules of matrix multiplcation are really helpful here."
   ]
  },
  {
   "cell_type": "code",
   "execution_count": null,
   "metadata": {
    "scrolled": true
   },
   "outputs": [],
   "source": [
    "X_recovered = np.dot(X_obfuscated, P_inv)"
   ]
  },
  {
   "cell_type": "markdown",
   "metadata": {},
   "source": [
    "Print all three cases for a few customers\n",
    "- The original data\n",
    "- The transformed one\n",
    "- The reversed (recovered) one"
   ]
  },
  {
   "cell_type": "code",
   "execution_count": null,
   "metadata": {},
   "outputs": [],
   "source": [
    "# Print the original, obfuscated, and recovered data for a few customers\n",
    "num_customers = 5\n",
    "print(\"Original Data (X):\\n\", X[:num_customers])\n",
    "print(\"\\nObfuscated Data (X'):\\n\", X_obfuscated[:num_customers])\n",
    "print(\"Recovered Data:\\n\", X_recovered[:num_customers])"
   ]
  },
  {
   "cell_type": "markdown",
   "metadata": {},
   "source": [
    "You can probably see that some values are not exactly the same as they are in the original data. What might be the reason for that?"
   ]
  },
  {
   "cell_type": "markdown",
   "metadata": {},
   "source": [
    "### Answer\n",
    "\n",
    "The slight discrepancies observed are due to floating-point precision limitations in computational mathematics. The negative values observed in the recovered data are due to floating-point precision errors and should be treated as zero. By applying a small threshold to these values, we can correct the recovered data to exactly match the original data."
   ]
  },
  {
   "cell_type": "markdown",
   "metadata": {},
   "source": [
    "## Proof That Data Obfuscation Can Work with LR"
   ]
  },
  {
   "cell_type": "markdown",
   "metadata": {},
   "source": [
    "The regression task has been solved with linear regression in this project. Your next task is to prove _analytically_ that the given obfuscation method won't affect linear regression in terms of predicted values i.e. their values will remain the same. Can you believe that? Well, you don't have to, you should prove it!"
   ]
  },
  {
   "cell_type": "markdown",
   "metadata": {},
   "source": [
    "So, the data is obfuscated and there is $X \\times P$ instead of just $X$ now. Consequently, there are other weights $w_P$ as\n",
    "$$\n",
    "w = (X^T X)^{-1} X^T y \\quad \\Rightarrow \\quad w_P = [(XP)^T XP]^{-1} (XP)^T y\n",
    "$$\n",
    "\n",
    "How would $w$ and $w_P$ be linked if you simplify the formula for $w_P$ above? \n",
    "\n",
    "What would be predicted values with $w_P$? \n",
    "\n",
    "What does that mean for the quality of linear regression if you measure it with RMSE?\n",
    "\n",
    "Check Appendix B Properties of Matrices in the end of the notebook. There are useful formulas in there!\n",
    "\n",
    "No code is necessary in this section, only analytical explanation!"
   ]
  },
  {
   "cell_type": "markdown",
   "metadata": {},
   "source": [
    "**Answer**"
   ]
  },
  {
   "cell_type": "markdown",
   "metadata": {},
   "source": [
    "1. Link between w and 𝑤𝑃​ : The new weights wP​ are the original weights 𝑤 multiplied by the inverse of the obfuscation matrix P.\n",
    "2. Predicted values with wP​ : The predicted values with wP​  are the same as the original predicted values.\n",
    "3. Impact on RMSE: The quality of the linear regression model, measured by RMSE, remains unchanged after the data obfuscation."
   ]
  },
  {
   "cell_type": "markdown",
   "metadata": {},
   "source": [
    "**Analytical proof**"
   ]
  },
  {
   "cell_type": "markdown",
   "metadata": {},
   "source": [
    "### Answer\n",
    "Link between w and wP\n",
    "Given the original weight calculation for linear regression:\n",
    "\n",
    "$$\n",
    "w = (X^T X)^{-1} X^T y\n",
    "$$\n",
    "\n",
    "For the obfuscated data \\( X' = X P \\), the weights are calculated as:\n",
    "\n",
    "$$\n",
    "w_P = [(X P)^T (X P)]^{-1} (X P)^T y\n",
    "$$\n",
    "\n",
    "Let's simplify this:\n",
    "\n",
    "$$\n",
    "w_P = [P^T X^T X P]^{-1} P^T X^T y\n",
    "$$\n",
    "\n",
    "Using the properties of inverses and transposes, we get:\n",
    "\n",
    "$$\n",
    "w_P = (P^T)^{-1} (X^T X)^{-1} (P)^{-1} P^T X^T y\n",
    "$$\n",
    "\n",
    "Since \\( (P^T)^{-1} = (P^{-1})^T \\) and \\( P^{-1} P = I \\):\n",
    "\n",
    "$$\n",
    "w_P = P^{-1} (X^T X)^{-1} X^T y\n",
    "$$\n",
    "\n",
    "Finally, we have:\n",
    "\n",
    "$$\n",
    "w_P = P^{-1} w\n",
    "$$"
   ]
  },
  {
   "cell_type": "markdown",
   "metadata": {},
   "source": [
    "### Answer 2\n",
    "\n",
    "#### Predicted Values with \\( wP \\)\n",
    "\n",
    "The predicted values using the new weights \\( wP \\) and the obfuscated data \\( X' = X P \\) can be calculated as:\n",
    "\n",
    "$$\n",
    "\\hat{y}_P = X P w_P\n",
    "$$\n",
    "\n",
    "Substituting \\( wP = P^{-1} w \\) into the equation, we get:\n",
    "\n",
    "$$\n",
    "\\hat{y}_P = X P (P^{-1} w)\n",
    "$$\n",
    "\n",
    "Using the associative property of multiplication \\( (A B) C = A (B C) \\), we can rewrite the equation as:\n",
    "\n",
    "$$\n",
    "\\hat{y}_P = X (P P^{-1}) w\n",
    "$$\n",
    "\n",
    "Since \\( P P^{-1} = I \\) (where \\( I \\) is the identity matrix):\n",
    "\n",
    "$$\n",
    "\\hat{y}_P = X I w\n",
    "$$\n",
    "\n",
    "Using the multiplicative identity property \\( I A = A \\):\n",
    "\n",
    "$$\n",
    "\\hat{y}_P = X w\n",
    "$$\n",
    "\n",
    "This shows that the predicted values \\( \\hat{y}P \\) with the new weights and obfuscated data are the same as the original predicted values \\( \\hat{y} \\)."
   ]
  },
  {
   "cell_type": "markdown",
   "metadata": {},
   "source": [
    "### Answer 3\n",
    "Impact on RMSE\n",
    "Since the predicted values are the same (\\( \\hat{y}P = \\hat{y} \\)), the quality of the linear regression model, as measured by RMSE, remains unchanged after the data obfuscation."
   ]
  },
  {
   "cell_type": "markdown",
   "metadata": {},
   "source": [
    "## Test Linear Regression With Data Obfuscation"
   ]
  },
  {
   "cell_type": "markdown",
   "metadata": {},
   "source": [
    "Now, let's prove Linear Regression can work computationally with the chosen obfuscation transformation.\n",
    "\n",
    "Build a procedure or a class that runs Linear Regression optionally with the obfuscation. You can use either a ready implementation of Linear Regression from sciki-learn or your own.\n",
    "\n",
    "Run Linear Regression for the original data and the obfuscated one, compare the predicted values and the RMSE, $R^2$ metric values. Is there any difference?"
   ]
  },
  {
   "cell_type": "markdown",
   "metadata": {},
   "source": [
    "**Procedure**\n",
    "\n",
    "- Create a square matrix $P$ of random numbers.\n",
    "- Check that it is invertible. If not, repeat the first point until we get an invertible matrix.\n",
    "- <! your comment here !>\n",
    "- Use $XP$ as the new feature matrix"
   ]
  },
  {
   "cell_type": "code",
   "execution_count": null,
   "metadata": {},
   "outputs": [],
   "source": [
    "# linear model already defined as lr"
   ]
  },
  {
   "cell_type": "code",
   "execution_count": null,
   "metadata": {},
   "outputs": [],
   "source": [
    "#split the data\n",
    "#X_train_obf, X_test_obf, _, _ = train_test_split(X_obfuscated, y, test_size=0.3, random_state=12345)\n",
    "\n",
    "# Split data into training and test sets for obfuscated data (use y to match the same random split as original)\n",
    "X_train_obf, X_test_obf, y_train_obf, y_test_obf = train_test_split(X_obfuscated, y, test_size=0.3, random_state=12345)"
   ]
  },
  {
   "cell_type": "code",
   "execution_count": null,
   "metadata": {},
   "outputs": [],
   "source": [
    "# Train and predict with obfuscated data\n",
    "lr.fit(X_train_obf, y_train_obf)\n",
    "y_pred_obf = lr.predict(X_test_obf)"
   ]
  },
  {
   "cell_type": "code",
   "execution_count": null,
   "metadata": {},
   "outputs": [],
   "source": [
    "# Evaluate original data\n",
    "print('Original Data:')\n",
    "eval_regressor(y_test, y_test_pred)\n",
    "\n",
    "# Evaluate obfuscated data\n",
    "print('Obfuscated Data:')\n",
    "eval_regressor(y_test_obf, y_pred_obf)"
   ]
  },
  {
   "cell_type": "code",
   "execution_count": null,
   "metadata": {},
   "outputs": [],
   "source": [
    "# Compare predicted values\n",
    "print(\"Predicted values with original data:\")\n",
    "print(y_test_pred[:5])\n",
    "print(\"Predicted values with obfuscated data:\")\n",
    "print(y_pred_obf[:5])"
   ]
  },
  {
   "cell_type": "markdown",
   "metadata": {},
   "source": [
    "# Conclusions"
   ]
  },
  {
   "cell_type": "markdown",
   "metadata": {},
   "source": [
    "Predicted Values Consistency:\n",
    "The predicted values using the obfuscated data (\\hat{y}P) are identical to those predicted using the original data (𝑦^). This demonstrates that the linear regression model's predictive accuracy remains unchanged despite the obfuscation. This result stems from the properties of matrix multiplication and inversion."
   ]
  },
  {
   "cell_type": "markdown",
   "metadata": {},
   "source": [
    "__RMSE and R^2 Metrics__:\n",
    "Both RMSE (Root Mean Square Error) and R^2 (coefficient of determination) metrics are the same for the original and obfuscated data. This indicates that the model's quality and performance are preserved when using obfuscated data. RMSE measures prediction error magnitude, and R^2 measures the variance explained by the model. Their constancy suggests unchanged predictive power."
   ]
  },
  {
   "cell_type": "markdown",
   "metadata": {},
   "source": [
    "__Obfuscation Effectiveness__:\n",
    "Obfuscation, in this context, refers to the process of transforming the feature data using a random invertible matrix P to hide the original values while preserving the relationships needed for accurate predictions. This method effectively hides the original feature values while maintaining the linear relationships for accurate predictions. This confirms the method is secure (protecting sensitive data) and functional (preserving model accuracy).\n",
    "\n",
    "It acts as an encryptor/ decryptor in a sense."
   ]
  },
  {
   "cell_type": "markdown",
   "metadata": {},
   "source": [
    "__Practical Implications__:\n",
    "This obfuscation method can protect sensitive information in datasets (e.g., personal, financial, or medical data) without compromising the ability to perform accurate machine learning tasks. It ensures compliance with data privacy regulations while leveraging data for predictive modeling."
   ]
  },
  {
   "cell_type": "markdown",
   "metadata": {},
   "source": [
    "# Checklist"
   ]
  },
  {
   "cell_type": "markdown",
   "metadata": {},
   "source": [
    "Type 'x' to check. Then press Shift+Enter."
   ]
  },
  {
   "cell_type": "markdown",
   "metadata": {},
   "source": [
    "- [x]  Jupyter Notebook is open\n",
    "- [ ]  Code is error free\n",
    "- [ ]  The cells are arranged in order of logic and execution\n",
    "- [ ]  Task 1 has been performed\n",
    "    - [ ]  There is the procedure that can return k similar customers for a given one\n",
    "    - [ ]  The procedure is tested for all four proposed combinations\n",
    "    - [ ]  The questions re the scaling/distances are answered\n",
    "- [ ]  Task 2 has been performed\n",
    "    - [ ]  The random classification model is built and tested for all for probability levels\n",
    "    - [ ]  The kNN classification model is built and tested for both the original data and the scaled one, the F1 metric is calculated.\n",
    "- [ ]  Task 3 has been performed\n",
    "    - [ ]  The linear tegression solution is implemented with matrix operations.\n",
    "    - [ ]  RMSE is calculated for the implemented solution.\n",
    "- [ ]  Task 4 has been performed\n",
    "    - [ ]  The data is obfuscated with a random and invertible matrix P\n",
    "    - [ ]  The obfuscated data is recoved, few examples are printed out\n",
    "    - [ ]  The analytical proof that the transformation does not affect RMSE is provided \n",
    "    - [ ]  The computational proof that the transformation does not affect RMSE is provided\n",
    "- [ ]  Conclusions have been made"
   ]
  },
  {
   "cell_type": "markdown",
   "metadata": {},
   "source": [
    "# Appendices \n",
    "\n",
    "## Appendix A: Writing Formulas in Jupyter Notebooks"
   ]
  },
  {
   "cell_type": "markdown",
   "metadata": {},
   "source": [
    "You can write formulas in your Jupyter Notebook in a markup language provided by a high-quality publishing system called $\\LaTeX$ (pronounced \"Lah-tech\"), and they will look like formulas in textbooks.\n",
    "\n",
    "To put a formula in a text, put the dollar sign (\\\\$) before and after the formula's text e.g. $\\frac{1}{2} \\times \\frac{3}{2} = \\frac{3}{4}$ or $y = x^2, x \\ge 1$.\n",
    "\n",
    "If a formula should be in its own paragraph, put the double dollar sign (\\\\$\\\\$) before and after the formula text e.g.\n",
    "\n",
    "$$\n",
    "\\bar{x} = \\frac{1}{n}\\sum_{i=1}^{n} x_i.\n",
    "$$\n",
    "\n",
    "The markup language of [LaTeX](https://en.wikipedia.org/wiki/LaTeX) is very popular among people who use formulas in their articles, books and texts. It can be complex but its basics are easy. Check this two page [cheatsheet](http://tug.ctan.org/info/undergradmath/undergradmath.pdf) for learning how to compose the most common formulas."
   ]
  },
  {
   "cell_type": "markdown",
   "metadata": {},
   "source": [
    "## Appendix B: Properties of Matrices"
   ]
  },
  {
   "cell_type": "markdown",
   "metadata": {},
   "source": [
    "Matrices have many properties in Linear Algebra. A few of them are listed here which can help with the analytical proof in this project."
   ]
  },
  {
   "cell_type": "markdown",
   "metadata": {},
   "source": [
    "<table>\n",
    "<tr>\n",
    "<td>Distributivity</td><td>$A(B+C)=AB+AC$</td>\n",
    "</tr>\n",
    "<tr>\n",
    "<td>Non-commutativity</td><td>$AB \\neq BA$</td>\n",
    "</tr>\n",
    "<tr>\n",
    "<td>Associative property of multiplication</td><td>$(AB)C = A(BC)$</td>\n",
    "</tr>\n",
    "<tr>\n",
    "<td>Multiplicative identity property</td><td>$IA = AI = A$</td>\n",
    "</tr>\n",
    "<tr>\n",
    "<td></td><td>$A^{-1}A = AA^{-1} = I$\n",
    "</td>\n",
    "</tr>    \n",
    "<tr>\n",
    "<td></td><td>$(AB)^{-1} = B^{-1}A^{-1}$</td>\n",
    "</tr>    \n",
    "<tr>\n",
    "<td>Reversivity of the transpose of a product of matrices,</td><td>$(AB)^T = B^TA^T$</td>\n",
    "</tr>    \n",
    "</table>"
   ]
  }
 ],
 "metadata": {
  "ExecuteTimeLog": [
   {
    "duration": 310,
    "start_time": "2024-06-16T17:44:47.671Z"
   },
   {
    "duration": 5281,
    "start_time": "2024-06-16T17:44:57.212Z"
   },
   {
    "duration": 18,
    "start_time": "2024-06-16T17:45:02.501Z"
   },
   {
    "duration": 5,
    "start_time": "2024-06-16T17:45:02.522Z"
   },
   {
    "duration": 21,
    "start_time": "2024-06-16T17:45:09.425Z"
   },
   {
    "duration": 18,
    "start_time": "2024-06-16T17:45:15.225Z"
   },
   {
    "duration": 5,
    "start_time": "2024-06-16T18:00:37.202Z"
   },
   {
    "duration": 13,
    "start_time": "2024-06-16T18:00:49.462Z"
   },
   {
    "duration": 7,
    "start_time": "2024-06-16T18:01:51.962Z"
   },
   {
    "duration": 11,
    "start_time": "2024-06-16T18:01:51.978Z"
   },
   {
    "duration": 5,
    "start_time": "2024-06-16T18:01:51.993Z"
   },
   {
    "duration": 18,
    "start_time": "2024-06-16T18:01:52.001Z"
   },
   {
    "duration": 17,
    "start_time": "2024-06-16T18:02:10.617Z"
   },
   {
    "duration": 1616,
    "start_time": "2024-06-16T18:02:29.871Z"
   },
   {
    "duration": 11,
    "start_time": "2024-06-16T18:02:33.967Z"
   },
   {
    "duration": 5,
    "start_time": "2024-06-16T18:02:37.792Z"
   },
   {
    "duration": 21,
    "start_time": "2024-06-16T18:02:55.361Z"
   },
   {
    "duration": 18,
    "start_time": "2024-06-16T18:03:02.940Z"
   },
   {
    "duration": 5,
    "start_time": "2024-06-16T18:03:17.963Z"
   },
   {
    "duration": 14,
    "start_time": "2024-06-16T18:03:19.210Z"
   },
   {
    "duration": 31,
    "start_time": "2024-06-16T18:05:17.291Z"
   },
   {
    "duration": 5005,
    "start_time": "2024-06-16T19:06:07.278Z"
   },
   {
    "duration": 4,
    "start_time": "2024-06-16T19:06:17.501Z"
   },
   {
    "duration": 8,
    "start_time": "2024-06-16T19:06:17.980Z"
   },
   {
    "duration": 6,
    "start_time": "2024-06-16T19:17:51.624Z"
   },
   {
    "duration": 15,
    "start_time": "2024-06-16T19:17:54.317Z"
   },
   {
    "duration": 15,
    "start_time": "2024-06-16T19:17:55.844Z"
   },
   {
    "duration": 14,
    "start_time": "2024-06-16T19:18:57.988Z"
   },
   {
    "duration": 450,
    "start_time": "2024-06-16T19:39:18.767Z"
   },
   {
    "duration": 54,
    "start_time": "2024-06-16T19:42:28.987Z"
   },
   {
    "duration": 5,
    "start_time": "2024-06-16T19:43:04.439Z"
   },
   {
    "duration": 5,
    "start_time": "2024-06-16T19:43:14.812Z"
   },
   {
    "duration": 43,
    "start_time": "2024-06-16T19:43:27.501Z"
   },
   {
    "duration": 7,
    "start_time": "2024-06-16T19:54:58.518Z"
   },
   {
    "duration": 16,
    "start_time": "2024-06-16T20:02:03.401Z"
   },
   {
    "duration": 6,
    "start_time": "2024-06-16T20:02:33.810Z"
   },
   {
    "duration": 627,
    "start_time": "2024-06-16T20:02:44.720Z"
   },
   {
    "duration": 50,
    "start_time": "2024-06-16T20:03:37.496Z"
   },
   {
    "duration": 59,
    "start_time": "2024-06-16T20:03:56.457Z"
   },
   {
    "duration": 68,
    "start_time": "2024-06-16T20:04:10.009Z"
   },
   {
    "duration": 46,
    "start_time": "2024-06-16T20:04:22.410Z"
   },
   {
    "duration": 9,
    "start_time": "2024-06-16T20:40:14.734Z"
   },
   {
    "duration": 15,
    "start_time": "2024-06-16T20:40:18.973Z"
   },
   {
    "duration": 14,
    "start_time": "2024-06-16T20:40:19.922Z"
   },
   {
    "duration": 55,
    "start_time": "2024-06-16T20:40:21.937Z"
   },
   {
    "duration": 335,
    "start_time": "2024-06-17T15:59:55.632Z"
   },
   {
    "duration": 5658,
    "start_time": "2024-06-17T16:00:01.794Z"
   },
   {
    "duration": 16,
    "start_time": "2024-06-17T16:00:07.458Z"
   },
   {
    "duration": 11,
    "start_time": "2024-06-17T16:00:07.477Z"
   },
   {
    "duration": 21,
    "start_time": "2024-06-17T16:00:07.503Z"
   },
   {
    "duration": 15,
    "start_time": "2024-06-17T16:00:07.529Z"
   },
   {
    "duration": 8,
    "start_time": "2024-06-17T16:00:07.547Z"
   },
   {
    "duration": 56,
    "start_time": "2024-06-17T16:00:07.559Z"
   },
   {
    "duration": 4,
    "start_time": "2024-06-17T16:00:07.618Z"
   },
   {
    "duration": 33,
    "start_time": "2024-06-17T16:00:07.625Z"
   },
   {
    "duration": 5469,
    "start_time": "2024-06-17T16:00:07.661Z"
   },
   {
    "duration": 5,
    "start_time": "2024-06-17T16:00:13.133Z"
   },
   {
    "duration": 9,
    "start_time": "2024-06-17T16:00:13.142Z"
   },
   {
    "duration": 17,
    "start_time": "2024-06-17T16:00:13.154Z"
   },
   {
    "duration": 36,
    "start_time": "2024-06-17T16:00:13.177Z"
   },
   {
    "duration": 31,
    "start_time": "2024-06-17T16:00:17.254Z"
   },
   {
    "duration": 56,
    "start_time": "2024-06-17T16:00:50.276Z"
   },
   {
    "duration": 28,
    "start_time": "2024-06-17T16:01:17.927Z"
   },
   {
    "duration": 69,
    "start_time": "2024-06-17T16:01:34.226Z"
   },
   {
    "duration": 5,
    "start_time": "2024-06-17T17:44:19.478Z"
   },
   {
    "duration": 8,
    "start_time": "2024-06-17T17:45:25.788Z"
   },
   {
    "duration": 20,
    "start_time": "2024-06-17T17:46:10.496Z"
   },
   {
    "duration": 9,
    "start_time": "2024-06-17T17:46:39.059Z"
   },
   {
    "duration": 4,
    "start_time": "2024-06-17T18:02:35.889Z"
   },
   {
    "duration": 5,
    "start_time": "2024-06-17T18:03:21.712Z"
   },
   {
    "duration": 95,
    "start_time": "2024-06-17T18:08:56.806Z"
   },
   {
    "duration": 25,
    "start_time": "2024-06-17T23:05:13.599Z"
   },
   {
    "duration": 7,
    "start_time": "2024-06-18T00:03:10.664Z"
   },
   {
    "duration": 5,
    "start_time": "2024-06-18T00:03:12.877Z"
   },
   {
    "duration": 313,
    "start_time": "2024-06-18T00:03:25.135Z"
   },
   {
    "duration": 5178,
    "start_time": "2024-06-18T00:03:34.242Z"
   },
   {
    "duration": 16,
    "start_time": "2024-06-18T00:03:39.423Z"
   },
   {
    "duration": 6,
    "start_time": "2024-06-18T00:03:39.443Z"
   },
   {
    "duration": 39,
    "start_time": "2024-06-18T00:03:39.453Z"
   },
   {
    "duration": 15,
    "start_time": "2024-06-18T00:03:39.495Z"
   },
   {
    "duration": 6,
    "start_time": "2024-06-18T00:03:39.512Z"
   },
   {
    "duration": 16,
    "start_time": "2024-06-18T00:03:39.521Z"
   },
   {
    "duration": 49,
    "start_time": "2024-06-18T00:03:39.541Z"
   },
   {
    "duration": 31,
    "start_time": "2024-06-18T00:03:39.593Z"
   },
   {
    "duration": 4928,
    "start_time": "2024-06-18T00:03:39.631Z"
   },
   {
    "duration": 4,
    "start_time": "2024-06-18T00:03:44.562Z"
   },
   {
    "duration": 8,
    "start_time": "2024-06-18T00:03:44.569Z"
   },
   {
    "duration": 15,
    "start_time": "2024-06-18T00:03:44.580Z"
   },
   {
    "duration": 14,
    "start_time": "2024-06-18T00:03:44.597Z"
   },
   {
    "duration": 25,
    "start_time": "2024-06-18T00:03:44.614Z"
   },
   {
    "duration": 92,
    "start_time": "2024-06-18T00:03:44.642Z"
   },
   {
    "duration": 31,
    "start_time": "2024-06-18T00:03:44.737Z"
   },
   {
    "duration": 63,
    "start_time": "2024-06-18T00:03:44.793Z"
   },
   {
    "duration": 5,
    "start_time": "2024-06-18T00:03:44.859Z"
   },
   {
    "duration": 29,
    "start_time": "2024-06-18T00:03:44.867Z"
   },
   {
    "duration": 5,
    "start_time": "2024-06-18T00:03:44.898Z"
   },
   {
    "duration": 4,
    "start_time": "2024-06-18T00:03:44.907Z"
   },
   {
    "duration": 132,
    "start_time": "2024-06-18T00:03:44.914Z"
   },
   {
    "duration": 8,
    "start_time": "2024-06-18T00:03:45.048Z"
   },
   {
    "duration": 5,
    "start_time": "2024-06-18T00:03:45.059Z"
   },
   {
    "duration": 279,
    "start_time": "2024-06-18T00:03:52.430Z"
   },
   {
    "duration": 7,
    "start_time": "2024-06-18T00:44:42.432Z"
   },
   {
    "duration": 8,
    "start_time": "2024-06-18T00:44:43.251Z"
   },
   {
    "duration": 180,
    "start_time": "2024-06-18T00:44:46.441Z"
   },
   {
    "duration": 10,
    "start_time": "2024-06-18T00:45:23.915Z"
   },
   {
    "duration": 4,
    "start_time": "2024-06-18T00:45:24.722Z"
   },
   {
    "duration": 156,
    "start_time": "2024-06-18T00:45:25.850Z"
   },
   {
    "duration": 8,
    "start_time": "2024-06-18T00:46:25.267Z"
   },
   {
    "duration": 16,
    "start_time": "2024-06-18T00:46:38.628Z"
   },
   {
    "duration": 6,
    "start_time": "2024-06-18T01:21:07.563Z"
   },
   {
    "duration": 4,
    "start_time": "2024-06-18T01:21:08.658Z"
   },
   {
    "duration": 4,
    "start_time": "2024-06-18T01:21:11.440Z"
   },
   {
    "duration": 12,
    "start_time": "2024-06-18T01:21:14.344Z"
   },
   {
    "duration": 304,
    "start_time": "2024-06-18T02:48:24.144Z"
   },
   {
    "duration": 5194,
    "start_time": "2024-06-18T02:48:34.352Z"
   },
   {
    "duration": 16,
    "start_time": "2024-06-18T02:48:39.550Z"
   },
   {
    "duration": 5,
    "start_time": "2024-06-18T02:48:39.569Z"
   },
   {
    "duration": 18,
    "start_time": "2024-06-18T02:48:39.579Z"
   },
   {
    "duration": 40,
    "start_time": "2024-06-18T02:48:39.600Z"
   },
   {
    "duration": 5,
    "start_time": "2024-06-18T02:48:39.644Z"
   },
   {
    "duration": 16,
    "start_time": "2024-06-18T02:48:39.652Z"
   },
   {
    "duration": 5,
    "start_time": "2024-06-18T02:48:39.672Z"
   },
   {
    "duration": 70,
    "start_time": "2024-06-18T02:48:39.680Z"
   },
   {
    "duration": 4891,
    "start_time": "2024-06-18T02:48:39.756Z"
   },
   {
    "duration": 3,
    "start_time": "2024-06-18T02:48:44.650Z"
   },
   {
    "duration": 9,
    "start_time": "2024-06-18T02:48:44.656Z"
   },
   {
    "duration": 16,
    "start_time": "2024-06-18T02:48:44.670Z"
   },
   {
    "duration": 17,
    "start_time": "2024-06-18T02:48:44.691Z"
   },
   {
    "duration": 27,
    "start_time": "2024-06-18T02:48:44.727Z"
   },
   {
    "duration": 75,
    "start_time": "2024-06-18T02:48:44.757Z"
   },
   {
    "duration": 23,
    "start_time": "2024-06-18T02:48:44.835Z"
   },
   {
    "duration": 74,
    "start_time": "2024-06-18T02:48:44.861Z"
   },
   {
    "duration": 5,
    "start_time": "2024-06-18T02:48:44.938Z"
   },
   {
    "duration": 8,
    "start_time": "2024-06-18T02:48:44.946Z"
   },
   {
    "duration": 5,
    "start_time": "2024-06-18T02:48:44.957Z"
   },
   {
    "duration": 4,
    "start_time": "2024-06-18T02:48:44.966Z"
   },
   {
    "duration": 152,
    "start_time": "2024-06-18T02:48:44.974Z"
   },
   {
    "duration": 8,
    "start_time": "2024-06-18T02:48:45.129Z"
   },
   {
    "duration": 5,
    "start_time": "2024-06-18T02:48:45.140Z"
   },
   {
    "duration": 15,
    "start_time": "2024-06-18T02:48:45.149Z"
   },
   {
    "duration": 66,
    "start_time": "2024-06-18T02:48:45.167Z"
   },
   {
    "duration": 5,
    "start_time": "2024-06-18T02:48:45.239Z"
   },
   {
    "duration": 80,
    "start_time": "2024-06-18T02:48:45.247Z"
   },
   {
    "duration": 9,
    "start_time": "2024-06-18T02:48:45.330Z"
   },
   {
    "duration": 5,
    "start_time": "2024-06-18T02:48:48.606Z"
   },
   {
    "duration": 7,
    "start_time": "2024-06-18T02:49:30.087Z"
   },
   {
    "duration": 5,
    "start_time": "2024-06-18T03:32:27.456Z"
   },
   {
    "duration": 7,
    "start_time": "2024-06-18T03:32:34.824Z"
   },
   {
    "duration": 3,
    "start_time": "2024-06-18T03:36:22.057Z"
   },
   {
    "duration": 7,
    "start_time": "2024-06-18T03:36:22.607Z"
   },
   {
    "duration": 4,
    "start_time": "2024-06-18T04:12:44.730Z"
   },
   {
    "duration": 4,
    "start_time": "2024-06-18T04:13:29.809Z"
   },
   {
    "duration": 7,
    "start_time": "2024-06-18T04:13:42.152Z"
   },
   {
    "duration": 309,
    "start_time": "2024-06-18T14:07:00.031Z"
   },
   {
    "duration": 5169,
    "start_time": "2024-06-18T14:07:05.096Z"
   },
   {
    "duration": 21,
    "start_time": "2024-06-18T14:07:10.271Z"
   },
   {
    "duration": 8,
    "start_time": "2024-06-18T14:07:10.294Z"
   },
   {
    "duration": 35,
    "start_time": "2024-06-18T14:07:10.306Z"
   },
   {
    "duration": 15,
    "start_time": "2024-06-18T14:07:10.344Z"
   },
   {
    "duration": 5,
    "start_time": "2024-06-18T14:07:10.362Z"
   },
   {
    "duration": 14,
    "start_time": "2024-06-18T14:07:10.370Z"
   },
   {
    "duration": 4,
    "start_time": "2024-06-18T14:07:10.386Z"
   },
   {
    "duration": 66,
    "start_time": "2024-06-18T14:07:10.393Z"
   },
   {
    "duration": 4997,
    "start_time": "2024-06-18T14:07:10.465Z"
   },
   {
    "duration": 4,
    "start_time": "2024-06-18T14:07:15.466Z"
   },
   {
    "duration": 9,
    "start_time": "2024-06-18T14:07:15.473Z"
   },
   {
    "duration": 16,
    "start_time": "2024-06-18T14:07:15.486Z"
   },
   {
    "duration": 34,
    "start_time": "2024-06-18T14:07:15.505Z"
   },
   {
    "duration": 24,
    "start_time": "2024-06-18T14:07:15.542Z"
   },
   {
    "duration": 77,
    "start_time": "2024-06-18T14:07:15.569Z"
   },
   {
    "duration": 24,
    "start_time": "2024-06-18T14:07:15.649Z"
   },
   {
    "duration": 75,
    "start_time": "2024-06-18T14:07:15.675Z"
   },
   {
    "duration": 5,
    "start_time": "2024-06-18T14:07:15.753Z"
   },
   {
    "duration": 9,
    "start_time": "2024-06-18T14:07:15.760Z"
   },
   {
    "duration": 5,
    "start_time": "2024-06-18T14:07:15.772Z"
   },
   {
    "duration": 5,
    "start_time": "2024-06-18T14:07:15.780Z"
   },
   {
    "duration": 152,
    "start_time": "2024-06-18T14:07:15.788Z"
   },
   {
    "duration": 8,
    "start_time": "2024-06-18T14:07:15.943Z"
   },
   {
    "duration": 5,
    "start_time": "2024-06-18T14:07:15.954Z"
   },
   {
    "duration": 19,
    "start_time": "2024-06-18T14:07:15.962Z"
   },
   {
    "duration": 58,
    "start_time": "2024-06-18T14:07:15.983Z"
   },
   {
    "duration": 6,
    "start_time": "2024-06-18T14:07:16.048Z"
   },
   {
    "duration": 77,
    "start_time": "2024-06-18T14:07:16.057Z"
   },
   {
    "duration": 5,
    "start_time": "2024-06-18T14:07:16.138Z"
   },
   {
    "duration": 4,
    "start_time": "2024-06-18T14:07:16.147Z"
   },
   {
    "duration": 79,
    "start_time": "2024-06-18T14:07:16.154Z"
   },
   {
    "duration": 6,
    "start_time": "2024-06-18T14:07:40.676Z"
   },
   {
    "duration": 6,
    "start_time": "2024-06-18T14:19:16.954Z"
   },
   {
    "duration": 4,
    "start_time": "2024-06-18T14:39:04.808Z"
   },
   {
    "duration": 6,
    "start_time": "2024-06-18T14:39:05.385Z"
   },
   {
    "duration": 3,
    "start_time": "2024-06-18T14:40:16.674Z"
   },
   {
    "duration": 9,
    "start_time": "2024-06-18T15:07:26.009Z"
   },
   {
    "duration": 7,
    "start_time": "2024-06-18T16:20:06.307Z"
   },
   {
    "duration": 6,
    "start_time": "2024-06-18T16:20:26.582Z"
   },
   {
    "duration": 311,
    "start_time": "2024-06-19T05:32:47.202Z"
   },
   {
    "duration": 5157,
    "start_time": "2024-06-19T05:32:57.055Z"
   },
   {
    "duration": 18,
    "start_time": "2024-06-19T05:33:02.217Z"
   },
   {
    "duration": 5,
    "start_time": "2024-06-19T05:33:02.238Z"
   },
   {
    "duration": 19,
    "start_time": "2024-06-19T05:33:02.247Z"
   },
   {
    "duration": 44,
    "start_time": "2024-06-19T05:33:02.269Z"
   },
   {
    "duration": 6,
    "start_time": "2024-06-19T05:33:02.316Z"
   },
   {
    "duration": 15,
    "start_time": "2024-06-19T05:33:02.325Z"
   },
   {
    "duration": 3,
    "start_time": "2024-06-19T05:33:02.343Z"
   },
   {
    "duration": 74,
    "start_time": "2024-06-19T05:33:02.350Z"
   },
   {
    "duration": 4975,
    "start_time": "2024-06-19T05:33:02.430Z"
   },
   {
    "duration": 4,
    "start_time": "2024-06-19T05:33:07.408Z"
   },
   {
    "duration": 10,
    "start_time": "2024-06-19T05:33:07.415Z"
   },
   {
    "duration": 15,
    "start_time": "2024-06-19T05:33:07.429Z"
   },
   {
    "duration": 15,
    "start_time": "2024-06-19T05:33:07.446Z"
   },
   {
    "duration": 62,
    "start_time": "2024-06-19T05:33:07.465Z"
   },
   {
    "duration": 54,
    "start_time": "2024-06-19T05:33:07.530Z"
   },
   {
    "duration": 46,
    "start_time": "2024-06-19T05:33:07.587Z"
   },
   {
    "duration": 54,
    "start_time": "2024-06-19T05:33:07.635Z"
   },
   {
    "duration": 5,
    "start_time": "2024-06-19T05:33:07.712Z"
   },
   {
    "duration": 10,
    "start_time": "2024-06-19T05:33:07.719Z"
   },
   {
    "duration": 6,
    "start_time": "2024-06-19T05:33:07.732Z"
   },
   {
    "duration": 5,
    "start_time": "2024-06-19T05:33:07.741Z"
   },
   {
    "duration": 142,
    "start_time": "2024-06-19T05:33:07.749Z"
   },
   {
    "duration": 19,
    "start_time": "2024-06-19T05:33:07.894Z"
   },
   {
    "duration": 5,
    "start_time": "2024-06-19T05:33:07.915Z"
   },
   {
    "duration": 15,
    "start_time": "2024-06-19T05:33:07.924Z"
   },
   {
    "duration": 72,
    "start_time": "2024-06-19T05:33:07.943Z"
   },
   {
    "duration": 7,
    "start_time": "2024-06-19T05:33:08.025Z"
   },
   {
    "duration": 5,
    "start_time": "2024-06-19T05:33:08.112Z"
   },
   {
    "duration": 6,
    "start_time": "2024-06-19T05:33:08.121Z"
   },
   {
    "duration": 4,
    "start_time": "2024-06-19T05:33:08.131Z"
   },
   {
    "duration": 3,
    "start_time": "2024-06-19T05:33:08.138Z"
   },
   {
    "duration": 6,
    "start_time": "2024-06-19T05:33:08.214Z"
   },
   {
    "duration": 92,
    "start_time": "2024-06-19T05:33:08.223Z"
   },
   {
    "duration": 5,
    "start_time": "2024-06-19T05:37:37.642Z"
   },
   {
    "duration": 5,
    "start_time": "2024-06-19T05:39:03.746Z"
   },
   {
    "duration": 4,
    "start_time": "2024-06-19T05:48:16.109Z"
   },
   {
    "duration": 5,
    "start_time": "2024-06-19T05:49:02.411Z"
   },
   {
    "duration": 135,
    "start_time": "2024-06-19T05:49:49.643Z"
   },
   {
    "duration": 38,
    "start_time": "2024-06-19T05:58:27.416Z"
   },
   {
    "duration": 5,
    "start_time": "2024-06-19T05:59:12.929Z"
   },
   {
    "duration": 10,
    "start_time": "2024-06-19T05:59:12.937Z"
   },
   {
    "duration": 5,
    "start_time": "2024-06-19T05:59:12.951Z"
   },
   {
    "duration": 16,
    "start_time": "2024-06-19T05:59:12.960Z"
   },
   {
    "duration": 44,
    "start_time": "2024-06-19T05:59:12.982Z"
   },
   {
    "duration": 6,
    "start_time": "2024-06-19T05:59:13.030Z"
   },
   {
    "duration": 17,
    "start_time": "2024-06-19T05:59:13.040Z"
   },
   {
    "duration": 3,
    "start_time": "2024-06-19T05:59:13.063Z"
   },
   {
    "duration": 34,
    "start_time": "2024-06-19T05:59:13.113Z"
   },
   {
    "duration": 5083,
    "start_time": "2024-06-19T05:59:13.150Z"
   },
   {
    "duration": 4,
    "start_time": "2024-06-19T05:59:18.239Z"
   },
   {
    "duration": 8,
    "start_time": "2024-06-19T05:59:18.246Z"
   },
   {
    "duration": 15,
    "start_time": "2024-06-19T05:59:18.257Z"
   },
   {
    "duration": 47,
    "start_time": "2024-06-19T05:59:18.275Z"
   },
   {
    "duration": 24,
    "start_time": "2024-06-19T05:59:18.325Z"
   },
   {
    "duration": 82,
    "start_time": "2024-06-19T05:59:18.352Z"
   },
   {
    "duration": 24,
    "start_time": "2024-06-19T05:59:18.437Z"
   },
   {
    "duration": 71,
    "start_time": "2024-06-19T05:59:18.464Z"
   },
   {
    "duration": 5,
    "start_time": "2024-06-19T05:59:18.538Z"
   },
   {
    "duration": 8,
    "start_time": "2024-06-19T05:59:18.547Z"
   },
   {
    "duration": 7,
    "start_time": "2024-06-19T05:59:18.558Z"
   },
   {
    "duration": 45,
    "start_time": "2024-06-19T05:59:18.568Z"
   },
   {
    "duration": 117,
    "start_time": "2024-06-19T05:59:18.617Z"
   },
   {
    "duration": 7,
    "start_time": "2024-06-19T05:59:18.737Z"
   },
   {
    "duration": 4,
    "start_time": "2024-06-19T05:59:18.747Z"
   },
   {
    "duration": 57,
    "start_time": "2024-06-19T05:59:18.755Z"
   },
   {
    "duration": 5,
    "start_time": "2024-06-19T05:59:18.814Z"
   },
   {
    "duration": 4,
    "start_time": "2024-06-19T05:59:18.822Z"
   },
   {
    "duration": 80,
    "start_time": "2024-06-19T05:59:18.833Z"
   },
   {
    "duration": 8,
    "start_time": "2024-06-19T05:59:18.917Z"
   },
   {
    "duration": 4,
    "start_time": "2024-06-19T05:59:18.928Z"
   },
   {
    "duration": 5,
    "start_time": "2024-06-19T05:59:18.936Z"
   },
   {
    "duration": 8,
    "start_time": "2024-06-19T05:59:19.014Z"
   },
   {
    "duration": 3,
    "start_time": "2024-06-19T05:59:19.025Z"
   },
   {
    "duration": 81,
    "start_time": "2024-06-19T05:59:19.032Z"
   },
   {
    "duration": 5,
    "start_time": "2024-06-19T05:59:19.116Z"
   },
   {
    "duration": 103,
    "start_time": "2024-06-19T05:59:19.125Z"
   },
   {
    "duration": 24,
    "start_time": "2024-06-19T06:00:56.297Z"
   },
   {
    "duration": 32,
    "start_time": "2024-06-19T06:01:02.996Z"
   },
   {
    "duration": 4,
    "start_time": "2024-06-19T06:01:19.277Z"
   },
   {
    "duration": 10,
    "start_time": "2024-06-19T06:01:19.285Z"
   },
   {
    "duration": 6,
    "start_time": "2024-06-19T06:01:19.297Z"
   },
   {
    "duration": 15,
    "start_time": "2024-06-19T06:01:19.307Z"
   },
   {
    "duration": 15,
    "start_time": "2024-06-19T06:01:19.325Z"
   },
   {
    "duration": 5,
    "start_time": "2024-06-19T06:01:19.343Z"
   },
   {
    "duration": 62,
    "start_time": "2024-06-19T06:01:19.353Z"
   },
   {
    "duration": 3,
    "start_time": "2024-06-19T06:01:19.418Z"
   },
   {
    "duration": 30,
    "start_time": "2024-06-19T06:01:19.424Z"
   },
   {
    "duration": 5060,
    "start_time": "2024-06-19T06:01:19.457Z"
   },
   {
    "duration": 4,
    "start_time": "2024-06-19T06:01:24.520Z"
   },
   {
    "duration": 9,
    "start_time": "2024-06-19T06:01:24.528Z"
   },
   {
    "duration": 14,
    "start_time": "2024-06-19T06:01:24.540Z"
   },
   {
    "duration": 55,
    "start_time": "2024-06-19T06:01:24.557Z"
   },
   {
    "duration": 24,
    "start_time": "2024-06-19T06:01:24.618Z"
   },
   {
    "duration": 76,
    "start_time": "2024-06-19T06:01:24.644Z"
   },
   {
    "duration": 24,
    "start_time": "2024-06-19T06:01:24.723Z"
   },
   {
    "duration": 79,
    "start_time": "2024-06-19T06:01:24.750Z"
   },
   {
    "duration": 6,
    "start_time": "2024-06-19T06:01:24.831Z"
   },
   {
    "duration": 8,
    "start_time": "2024-06-19T06:01:24.841Z"
   },
   {
    "duration": 5,
    "start_time": "2024-06-19T06:01:24.852Z"
   },
   {
    "duration": 5,
    "start_time": "2024-06-19T06:01:24.860Z"
   },
   {
    "duration": 149,
    "start_time": "2024-06-19T06:01:24.868Z"
   },
   {
    "duration": 8,
    "start_time": "2024-06-19T06:01:25.020Z"
   },
   {
    "duration": 5,
    "start_time": "2024-06-19T06:01:25.031Z"
   },
   {
    "duration": 18,
    "start_time": "2024-06-19T06:01:25.039Z"
   },
   {
    "duration": 5,
    "start_time": "2024-06-19T06:01:25.118Z"
   },
   {
    "duration": 8,
    "start_time": "2024-06-19T06:01:25.127Z"
   },
   {
    "duration": 5,
    "start_time": "2024-06-19T06:01:25.214Z"
   },
   {
    "duration": 8,
    "start_time": "2024-06-19T06:01:25.222Z"
   },
   {
    "duration": 74,
    "start_time": "2024-06-19T06:01:25.239Z"
   },
   {
    "duration": 10,
    "start_time": "2024-06-19T06:01:25.316Z"
   },
   {
    "duration": 86,
    "start_time": "2024-06-19T06:01:25.329Z"
   },
   {
    "duration": 4,
    "start_time": "2024-06-19T06:01:25.418Z"
   },
   {
    "duration": 7,
    "start_time": "2024-06-19T06:01:25.424Z"
   },
   {
    "duration": 5,
    "start_time": "2024-06-19T06:01:25.433Z"
   },
   {
    "duration": 91,
    "start_time": "2024-06-19T06:01:25.441Z"
   },
   {
    "duration": 5304,
    "start_time": "2024-06-19T16:11:45.515Z"
   },
   {
    "duration": 20,
    "start_time": "2024-06-19T16:11:50.825Z"
   },
   {
    "duration": 8,
    "start_time": "2024-06-19T16:11:50.848Z"
   },
   {
    "duration": 19,
    "start_time": "2024-06-19T16:11:50.859Z"
   },
   {
    "duration": 33,
    "start_time": "2024-06-19T16:11:50.883Z"
   },
   {
    "duration": 6,
    "start_time": "2024-06-19T16:11:50.920Z"
   },
   {
    "duration": 15,
    "start_time": "2024-06-19T16:11:50.930Z"
   },
   {
    "duration": 4,
    "start_time": "2024-06-19T16:11:50.947Z"
   },
   {
    "duration": 74,
    "start_time": "2024-06-19T16:11:50.955Z"
   },
   {
    "duration": 4831,
    "start_time": "2024-06-19T16:11:51.032Z"
   },
   {
    "duration": 3,
    "start_time": "2024-06-19T16:11:55.866Z"
   },
   {
    "duration": 8,
    "start_time": "2024-06-19T16:11:55.873Z"
   },
   {
    "duration": 27,
    "start_time": "2024-06-19T16:11:55.885Z"
   },
   {
    "duration": 14,
    "start_time": "2024-06-19T16:11:55.919Z"
   },
   {
    "duration": 26,
    "start_time": "2024-06-19T16:11:55.936Z"
   },
   {
    "duration": 85,
    "start_time": "2024-06-19T16:11:55.965Z"
   },
   {
    "duration": 24,
    "start_time": "2024-06-19T16:11:56.053Z"
   },
   {
    "duration": 73,
    "start_time": "2024-06-19T16:11:56.082Z"
   },
   {
    "duration": 5,
    "start_time": "2024-06-19T16:11:56.158Z"
   },
   {
    "duration": 8,
    "start_time": "2024-06-19T16:11:56.167Z"
   },
   {
    "duration": 5,
    "start_time": "2024-06-19T16:11:56.207Z"
   },
   {
    "duration": 5,
    "start_time": "2024-06-19T16:11:56.215Z"
   },
   {
    "duration": 123,
    "start_time": "2024-06-19T16:11:56.223Z"
   },
   {
    "duration": 7,
    "start_time": "2024-06-19T16:11:56.349Z"
   },
   {
    "duration": 6,
    "start_time": "2024-06-19T16:11:56.359Z"
   },
   {
    "duration": 41,
    "start_time": "2024-06-19T16:11:56.369Z"
   },
   {
    "duration": 5,
    "start_time": "2024-06-19T16:11:56.413Z"
   },
   {
    "duration": 4,
    "start_time": "2024-06-19T16:11:56.421Z"
   },
   {
    "duration": 87,
    "start_time": "2024-06-19T16:11:56.428Z"
   },
   {
    "duration": 7,
    "start_time": "2024-06-19T16:11:56.522Z"
   },
   {
    "duration": 4,
    "start_time": "2024-06-19T16:11:56.610Z"
   },
   {
    "duration": 5,
    "start_time": "2024-06-19T16:11:56.621Z"
   },
   {
    "duration": 6,
    "start_time": "2024-06-19T16:11:56.705Z"
   },
   {
    "duration": 3,
    "start_time": "2024-06-19T16:11:56.714Z"
   },
   {
    "duration": 7,
    "start_time": "2024-06-19T16:11:56.720Z"
   },
   {
    "duration": 5,
    "start_time": "2024-06-19T16:11:56.731Z"
   },
   {
    "duration": 536,
    "start_time": "2024-06-19T16:12:02.650Z"
   },
   {
    "duration": 7,
    "start_time": "2024-06-19T16:17:52.118Z"
   },
   {
    "duration": 5,
    "start_time": "2024-06-19T16:18:03.379Z"
   },
   {
    "duration": 6,
    "start_time": "2024-06-19T16:34:45.950Z"
   },
   {
    "duration": 10,
    "start_time": "2024-06-19T16:36:21.236Z"
   },
   {
    "duration": 7,
    "start_time": "2024-06-19T16:36:58.235Z"
   },
   {
    "duration": 6,
    "start_time": "2024-06-19T16:37:01.437Z"
   },
   {
    "duration": 9,
    "start_time": "2024-06-19T16:42:02.173Z"
   },
   {
    "duration": 1516,
    "start_time": "2024-06-19T16:52:45.564Z"
   },
   {
    "duration": 22,
    "start_time": "2024-06-19T16:52:47.084Z"
   },
   {
    "duration": 5,
    "start_time": "2024-06-19T16:52:47.113Z"
   },
   {
    "duration": 20,
    "start_time": "2024-06-19T16:52:47.120Z"
   },
   {
    "duration": 15,
    "start_time": "2024-06-19T16:52:47.145Z"
   },
   {
    "duration": 43,
    "start_time": "2024-06-19T16:52:47.163Z"
   },
   {
    "duration": 15,
    "start_time": "2024-06-19T16:52:47.209Z"
   },
   {
    "duration": 3,
    "start_time": "2024-06-19T16:52:47.227Z"
   },
   {
    "duration": 27,
    "start_time": "2024-06-19T16:52:47.237Z"
   },
   {
    "duration": 4944,
    "start_time": "2024-06-19T16:52:47.267Z"
   },
   {
    "duration": 4,
    "start_time": "2024-06-19T16:52:52.213Z"
   },
   {
    "duration": 9,
    "start_time": "2024-06-19T16:52:52.220Z"
   },
   {
    "duration": 15,
    "start_time": "2024-06-19T16:52:52.232Z"
   },
   {
    "duration": 14,
    "start_time": "2024-06-19T16:52:52.250Z"
   },
   {
    "duration": 63,
    "start_time": "2024-06-19T16:52:52.267Z"
   },
   {
    "duration": 76,
    "start_time": "2024-06-19T16:52:52.336Z"
   },
   {
    "duration": 24,
    "start_time": "2024-06-19T16:52:52.415Z"
   },
   {
    "duration": 78,
    "start_time": "2024-06-19T16:52:52.442Z"
   },
   {
    "duration": 5,
    "start_time": "2024-06-19T16:52:52.522Z"
   },
   {
    "duration": 9,
    "start_time": "2024-06-19T16:52:52.531Z"
   },
   {
    "duration": 5,
    "start_time": "2024-06-19T16:52:52.543Z"
   },
   {
    "duration": 5,
    "start_time": "2024-06-19T16:52:52.551Z"
   },
   {
    "duration": 137,
    "start_time": "2024-06-19T16:52:52.559Z"
   },
   {
    "duration": 12,
    "start_time": "2024-06-19T16:52:52.698Z"
   },
   {
    "duration": 7,
    "start_time": "2024-06-19T16:52:52.713Z"
   },
   {
    "duration": 17,
    "start_time": "2024-06-19T16:52:52.722Z"
   },
   {
    "duration": 6,
    "start_time": "2024-06-19T16:52:52.807Z"
   },
   {
    "duration": 4,
    "start_time": "2024-06-19T16:52:52.816Z"
   },
   {
    "duration": 5,
    "start_time": "2024-06-19T16:52:52.823Z"
   },
   {
    "duration": 12,
    "start_time": "2024-06-19T16:52:52.908Z"
   },
   {
    "duration": 4,
    "start_time": "2024-06-19T16:52:52.924Z"
   },
   {
    "duration": 76,
    "start_time": "2024-06-19T16:52:52.931Z"
   },
   {
    "duration": 10,
    "start_time": "2024-06-19T16:52:53.012Z"
   },
   {
    "duration": 4,
    "start_time": "2024-06-19T16:52:53.025Z"
   },
   {
    "duration": 78,
    "start_time": "2024-06-19T16:52:53.033Z"
   },
   {
    "duration": 10,
    "start_time": "2024-06-19T16:52:53.114Z"
   },
   {
    "duration": 9,
    "start_time": "2024-06-19T16:52:53.130Z"
   },
   {
    "duration": 6,
    "start_time": "2024-06-19T16:52:53.208Z"
   },
   {
    "duration": 9,
    "start_time": "2024-06-20T20:07:57.900Z"
   },
   {
    "duration": 311,
    "start_time": "2024-06-20T20:08:32.194Z"
   },
   {
    "duration": 5226,
    "start_time": "2024-06-20T20:08:57.000Z"
   },
   {
    "duration": 19,
    "start_time": "2024-06-20T20:09:02.231Z"
   },
   {
    "duration": 6,
    "start_time": "2024-06-20T20:09:02.253Z"
   },
   {
    "duration": 29,
    "start_time": "2024-06-20T20:09:02.263Z"
   },
   {
    "duration": 15,
    "start_time": "2024-06-20T20:09:02.322Z"
   },
   {
    "duration": 6,
    "start_time": "2024-06-20T20:09:02.340Z"
   },
   {
    "duration": 16,
    "start_time": "2024-06-20T20:09:02.349Z"
   },
   {
    "duration": 3,
    "start_time": "2024-06-20T20:09:02.370Z"
   },
   {
    "duration": 70,
    "start_time": "2024-06-20T20:09:02.379Z"
   },
   {
    "duration": 4993,
    "start_time": "2024-06-20T20:09:02.454Z"
   },
   {
    "duration": 4,
    "start_time": "2024-06-20T20:09:07.450Z"
   },
   {
    "duration": 8,
    "start_time": "2024-06-20T20:09:07.457Z"
   },
   {
    "duration": 16,
    "start_time": "2024-06-20T20:09:07.468Z"
   },
   {
    "duration": 33,
    "start_time": "2024-06-20T20:09:07.491Z"
   },
   {
    "duration": 23,
    "start_time": "2024-06-20T20:09:07.529Z"
   },
   {
    "duration": 78,
    "start_time": "2024-06-20T20:09:07.555Z"
   },
   {
    "duration": 24,
    "start_time": "2024-06-20T20:09:07.636Z"
   },
   {
    "duration": 75,
    "start_time": "2024-06-20T20:09:07.663Z"
   },
   {
    "duration": 6,
    "start_time": "2024-06-20T20:09:07.743Z"
   },
   {
    "duration": 9,
    "start_time": "2024-06-20T20:09:07.753Z"
   },
   {
    "duration": 6,
    "start_time": "2024-06-20T20:09:07.765Z"
   },
   {
    "duration": 6,
    "start_time": "2024-06-20T20:09:07.774Z"
   },
   {
    "duration": 117,
    "start_time": "2024-06-20T20:09:07.822Z"
   },
   {
    "duration": 5,
    "start_time": "2024-06-20T20:09:07.942Z"
   },
   {
    "duration": 147,
    "start_time": "2024-06-20T20:09:13.735Z"
   },
   {
    "duration": 5,
    "start_time": "2024-06-20T20:16:05.917Z"
   },
   {
    "duration": 31,
    "start_time": "2024-06-20T20:16:24.707Z"
   },
   {
    "duration": 4,
    "start_time": "2024-06-20T20:34:57.074Z"
   },
   {
    "duration": 29,
    "start_time": "2024-06-20T20:35:45.893Z"
   },
   {
    "duration": 110,
    "start_time": "2024-06-20T20:35:52.757Z"
   },
   {
    "duration": 5,
    "start_time": "2024-06-20T20:37:16.151Z"
   },
   {
    "duration": 12,
    "start_time": "2024-06-20T20:37:16.160Z"
   },
   {
    "duration": 6,
    "start_time": "2024-06-20T20:37:16.177Z"
   },
   {
    "duration": 36,
    "start_time": "2024-06-20T20:37:16.187Z"
   },
   {
    "duration": 13,
    "start_time": "2024-06-20T20:37:16.228Z"
   },
   {
    "duration": 5,
    "start_time": "2024-06-20T20:37:16.244Z"
   },
   {
    "duration": 14,
    "start_time": "2024-06-20T20:37:16.253Z"
   },
   {
    "duration": 4,
    "start_time": "2024-06-20T20:37:16.270Z"
   },
   {
    "duration": 29,
    "start_time": "2024-06-20T20:37:16.324Z"
   },
   {
    "duration": 5051,
    "start_time": "2024-06-20T20:37:16.356Z"
   },
   {
    "duration": 4,
    "start_time": "2024-06-20T20:37:21.422Z"
   },
   {
    "duration": 8,
    "start_time": "2024-06-20T20:37:21.429Z"
   },
   {
    "duration": 14,
    "start_time": "2024-06-20T20:37:21.441Z"
   },
   {
    "duration": 15,
    "start_time": "2024-06-20T20:37:21.458Z"
   },
   {
    "duration": 67,
    "start_time": "2024-06-20T20:37:21.477Z"
   },
   {
    "duration": 54,
    "start_time": "2024-06-20T20:37:21.547Z"
   },
   {
    "duration": 24,
    "start_time": "2024-06-20T20:37:21.622Z"
   },
   {
    "duration": 75,
    "start_time": "2024-06-20T20:37:21.649Z"
   },
   {
    "duration": 6,
    "start_time": "2024-06-20T20:37:21.727Z"
   },
   {
    "duration": 9,
    "start_time": "2024-06-20T20:37:21.736Z"
   },
   {
    "duration": 5,
    "start_time": "2024-06-20T20:37:21.749Z"
   },
   {
    "duration": 5,
    "start_time": "2024-06-20T20:37:21.758Z"
   },
   {
    "duration": 148,
    "start_time": "2024-06-20T20:37:21.766Z"
   },
   {
    "duration": 4,
    "start_time": "2024-06-20T20:37:21.924Z"
   },
   {
    "duration": 107,
    "start_time": "2024-06-20T20:37:28.194Z"
   },
   {
    "duration": 5,
    "start_time": "2024-06-20T20:38:00.410Z"
   },
   {
    "duration": 32,
    "start_time": "2024-06-20T20:38:34.667Z"
   },
   {
    "duration": 94,
    "start_time": "2024-06-20T20:39:22.162Z"
   },
   {
    "duration": 5,
    "start_time": "2024-06-20T20:40:23.938Z"
   },
   {
    "duration": 1369,
    "start_time": "2024-06-20T20:40:41.947Z"
   },
   {
    "duration": 31,
    "start_time": "2024-06-20T20:41:28.251Z"
   },
   {
    "duration": 6,
    "start_time": "2024-06-20T20:42:25.176Z"
   },
   {
    "duration": 293,
    "start_time": "2024-06-20T20:42:32.223Z"
   },
   {
    "duration": 1406,
    "start_time": "2024-06-20T20:55:55.896Z"
   },
   {
    "duration": 5,
    "start_time": "2024-06-20T20:56:24.149Z"
   },
   {
    "duration": 1613,
    "start_time": "2024-06-20T21:03:06.010Z"
   },
   {
    "duration": 277,
    "start_time": "2024-06-20T21:03:17.404Z"
   },
   {
    "duration": 1583,
    "start_time": "2024-06-20T21:06:57.145Z"
   },
   {
    "duration": 11,
    "start_time": "2024-06-20T21:06:58.733Z"
   },
   {
    "duration": 7,
    "start_time": "2024-06-20T21:06:58.747Z"
   },
   {
    "duration": 20,
    "start_time": "2024-06-20T21:06:58.758Z"
   },
   {
    "duration": 44,
    "start_time": "2024-06-20T21:06:58.781Z"
   },
   {
    "duration": 5,
    "start_time": "2024-06-20T21:06:58.828Z"
   },
   {
    "duration": 14,
    "start_time": "2024-06-20T21:06:58.836Z"
   },
   {
    "duration": 3,
    "start_time": "2024-06-20T21:06:58.853Z"
   },
   {
    "duration": 73,
    "start_time": "2024-06-20T21:06:58.860Z"
   },
   {
    "duration": 5040,
    "start_time": "2024-06-20T21:06:58.939Z"
   },
   {
    "duration": 4,
    "start_time": "2024-06-20T21:07:03.982Z"
   },
   {
    "duration": 9,
    "start_time": "2024-06-20T21:07:03.990Z"
   },
   {
    "duration": 29,
    "start_time": "2024-06-20T21:07:04.002Z"
   },
   {
    "duration": 15,
    "start_time": "2024-06-20T21:07:04.034Z"
   },
   {
    "duration": 25,
    "start_time": "2024-06-20T21:07:04.052Z"
   },
   {
    "duration": 79,
    "start_time": "2024-06-20T21:07:04.083Z"
   },
   {
    "duration": 24,
    "start_time": "2024-06-20T21:07:04.167Z"
   },
   {
    "duration": 76,
    "start_time": "2024-06-20T21:07:04.194Z"
   },
   {
    "duration": 6,
    "start_time": "2024-06-20T21:07:04.273Z"
   },
   {
    "duration": 9,
    "start_time": "2024-06-20T21:07:04.282Z"
   },
   {
    "duration": 8,
    "start_time": "2024-06-20T21:07:04.322Z"
   },
   {
    "duration": 4,
    "start_time": "2024-06-20T21:07:04.333Z"
   },
   {
    "duration": 122,
    "start_time": "2024-06-20T21:07:04.341Z"
   },
   {
    "duration": 5,
    "start_time": "2024-06-20T21:07:04.466Z"
   },
   {
    "duration": 478,
    "start_time": "2024-06-20T21:07:04.475Z"
   },
   {
    "duration": 0,
    "start_time": "2024-06-20T21:07:04.955Z"
   },
   {
    "duration": 6,
    "start_time": "2024-06-20T21:33:10.958Z"
   },
   {
    "duration": 15,
    "start_time": "2024-06-20T22:31:00.811Z"
   },
   {
    "duration": 37,
    "start_time": "2024-06-20T22:37:58.000Z"
   },
   {
    "duration": 111,
    "start_time": "2024-06-20T22:38:11.523Z"
   },
   {
    "duration": 11,
    "start_time": "2024-06-20T22:38:59.312Z"
   },
   {
    "duration": 2167,
    "start_time": "2024-06-20T22:39:14.755Z"
   },
   {
    "duration": 2000,
    "start_time": "2024-06-20T22:45:14.624Z"
   },
   {
    "duration": 296,
    "start_time": "2024-06-20T22:45:20.778Z"
   },
   {
    "duration": 1961,
    "start_time": "2024-06-20T22:46:14.219Z"
   },
   {
    "duration": 322,
    "start_time": "2024-06-20T22:46:16.184Z"
   },
   {
    "duration": 7,
    "start_time": "2024-06-20T22:53:28.114Z"
   },
   {
    "duration": 5,
    "start_time": "2024-06-20T22:53:28.810Z"
   },
   {
    "duration": 13,
    "start_time": "2024-06-20T22:53:29.251Z"
   },
   {
    "duration": 181,
    "start_time": "2024-06-20T23:31:52.702Z"
   },
   {
    "duration": 157,
    "start_time": "2024-06-20T23:35:18.931Z"
   },
   {
    "duration": 36,
    "start_time": "2024-06-21T00:20:24.519Z"
   },
   {
    "duration": 5,
    "start_time": "2024-06-21T00:21:29.183Z"
   },
   {
    "duration": 10,
    "start_time": "2024-06-21T00:22:32.491Z"
   },
   {
    "duration": 114,
    "start_time": "2024-06-21T00:23:22.022Z"
   },
   {
    "duration": 4,
    "start_time": "2024-06-21T00:25:02.998Z"
   },
   {
    "duration": 11,
    "start_time": "2024-06-21T00:25:04.861Z"
   },
   {
    "duration": 68,
    "start_time": "2024-06-21T00:25:29.568Z"
   },
   {
    "duration": 9,
    "start_time": "2024-06-21T00:28:04.024Z"
   },
   {
    "duration": 62,
    "start_time": "2024-06-21T00:28:36.268Z"
   },
   {
    "duration": 6,
    "start_time": "2024-06-21T00:29:16.976Z"
   },
   {
    "duration": 17,
    "start_time": "2024-06-21T00:29:32.629Z"
   },
   {
    "duration": 12,
    "start_time": "2024-06-21T00:29:33.884Z"
   },
   {
    "duration": 9,
    "start_time": "2024-06-21T00:30:03.538Z"
   },
   {
    "duration": 10,
    "start_time": "2024-06-21T14:29:53.133Z"
   },
   {
    "duration": 5205,
    "start_time": "2024-06-21T14:39:32.621Z"
   },
   {
    "duration": 21,
    "start_time": "2024-06-21T14:39:37.830Z"
   },
   {
    "duration": 5,
    "start_time": "2024-06-21T14:39:37.854Z"
   },
   {
    "duration": 18,
    "start_time": "2024-06-21T14:39:37.863Z"
   },
   {
    "duration": 23,
    "start_time": "2024-06-21T14:39:37.908Z"
   },
   {
    "duration": 4,
    "start_time": "2024-06-21T14:39:37.935Z"
   },
   {
    "duration": 16,
    "start_time": "2024-06-21T14:39:37.943Z"
   },
   {
    "duration": 44,
    "start_time": "2024-06-21T14:39:37.962Z"
   },
   {
    "duration": 33,
    "start_time": "2024-06-21T14:39:38.009Z"
   },
   {
    "duration": 5000,
    "start_time": "2024-06-21T14:39:38.049Z"
   },
   {
    "duration": 4,
    "start_time": "2024-06-21T14:39:43.052Z"
   },
   {
    "duration": 9,
    "start_time": "2024-06-21T14:39:43.060Z"
   },
   {
    "duration": 46,
    "start_time": "2024-06-21T14:39:43.072Z"
   },
   {
    "duration": 15,
    "start_time": "2024-06-21T14:39:43.121Z"
   },
   {
    "duration": 23,
    "start_time": "2024-06-21T14:39:43.140Z"
   },
   {
    "duration": 95,
    "start_time": "2024-06-21T14:39:43.166Z"
   },
   {
    "duration": 53,
    "start_time": "2024-06-21T14:39:43.265Z"
   },
   {
    "duration": 55,
    "start_time": "2024-06-21T14:39:43.320Z"
   },
   {
    "duration": 29,
    "start_time": "2024-06-21T14:39:43.378Z"
   },
   {
    "duration": 9,
    "start_time": "2024-06-21T14:39:43.411Z"
   },
   {
    "duration": 5,
    "start_time": "2024-06-21T14:39:43.423Z"
   },
   {
    "duration": 5,
    "start_time": "2024-06-21T14:39:43.430Z"
   },
   {
    "duration": 150,
    "start_time": "2024-06-21T14:39:43.438Z"
   },
   {
    "duration": 4,
    "start_time": "2024-06-21T14:39:43.605Z"
   },
   {
    "duration": 1918,
    "start_time": "2024-06-21T14:39:43.612Z"
   },
   {
    "duration": 31,
    "start_time": "2024-06-21T15:00:07.204Z"
   },
   {
    "duration": 10,
    "start_time": "2024-06-21T15:11:11.797Z"
   },
   {
    "duration": 1616,
    "start_time": "2024-06-21T15:11:15.427Z"
   },
   {
    "duration": 290,
    "start_time": "2024-06-21T15:11:27.186Z"
   },
   {
    "duration": 1586,
    "start_time": "2024-06-21T15:14:19.728Z"
   },
   {
    "duration": 10,
    "start_time": "2024-06-21T15:14:21.317Z"
   },
   {
    "duration": 5,
    "start_time": "2024-06-21T15:14:21.330Z"
   },
   {
    "duration": 18,
    "start_time": "2024-06-21T15:14:21.339Z"
   },
   {
    "duration": 48,
    "start_time": "2024-06-21T15:14:21.360Z"
   },
   {
    "duration": 4,
    "start_time": "2024-06-21T15:14:21.412Z"
   },
   {
    "duration": 14,
    "start_time": "2024-06-21T15:14:21.419Z"
   },
   {
    "duration": 6,
    "start_time": "2024-06-21T15:14:21.436Z"
   },
   {
    "duration": 65,
    "start_time": "2024-06-21T15:14:21.445Z"
   },
   {
    "duration": 4955,
    "start_time": "2024-06-21T15:14:21.516Z"
   },
   {
    "duration": 4,
    "start_time": "2024-06-21T15:14:26.474Z"
   },
   {
    "duration": 10,
    "start_time": "2024-06-21T15:14:26.481Z"
   },
   {
    "duration": 18,
    "start_time": "2024-06-21T15:14:26.494Z"
   },
   {
    "duration": 14,
    "start_time": "2024-06-21T15:14:26.515Z"
   },
   {
    "duration": 24,
    "start_time": "2024-06-21T15:14:26.532Z"
   },
   {
    "duration": 86,
    "start_time": "2024-06-21T15:14:26.559Z"
   },
   {
    "duration": 25,
    "start_time": "2024-06-21T15:14:26.648Z"
   },
   {
    "duration": 74,
    "start_time": "2024-06-21T15:14:26.676Z"
   },
   {
    "duration": 5,
    "start_time": "2024-06-21T15:14:26.753Z"
   },
   {
    "duration": 9,
    "start_time": "2024-06-21T15:14:26.761Z"
   },
   {
    "duration": 34,
    "start_time": "2024-06-21T15:14:26.773Z"
   },
   {
    "duration": 5,
    "start_time": "2024-06-21T15:14:26.810Z"
   },
   {
    "duration": 121,
    "start_time": "2024-06-21T15:14:26.818Z"
   },
   {
    "duration": 4,
    "start_time": "2024-06-21T15:14:26.942Z"
   },
   {
    "duration": 465,
    "start_time": "2024-06-21T15:14:26.949Z"
   },
   {
    "duration": 0,
    "start_time": "2024-06-21T15:14:27.419Z"
   },
   {
    "duration": 0,
    "start_time": "2024-06-21T15:14:27.420Z"
   },
   {
    "duration": 0,
    "start_time": "2024-06-21T15:14:27.422Z"
   },
   {
    "duration": 0,
    "start_time": "2024-06-21T15:14:27.424Z"
   },
   {
    "duration": 0,
    "start_time": "2024-06-21T15:14:27.427Z"
   },
   {
    "duration": 0,
    "start_time": "2024-06-21T15:14:27.429Z"
   },
   {
    "duration": 0,
    "start_time": "2024-06-21T15:14:27.431Z"
   },
   {
    "duration": 0,
    "start_time": "2024-06-21T15:14:27.434Z"
   },
   {
    "duration": 0,
    "start_time": "2024-06-21T15:14:27.436Z"
   },
   {
    "duration": 0,
    "start_time": "2024-06-21T15:14:27.437Z"
   },
   {
    "duration": 0,
    "start_time": "2024-06-21T15:14:27.439Z"
   },
   {
    "duration": 0,
    "start_time": "2024-06-21T15:14:27.441Z"
   },
   {
    "duration": 0,
    "start_time": "2024-06-21T15:14:27.444Z"
   },
   {
    "duration": 0,
    "start_time": "2024-06-21T15:14:27.446Z"
   },
   {
    "duration": 0,
    "start_time": "2024-06-21T15:14:27.449Z"
   },
   {
    "duration": 0,
    "start_time": "2024-06-21T15:14:27.451Z"
   },
   {
    "duration": 0,
    "start_time": "2024-06-21T15:14:27.453Z"
   },
   {
    "duration": 0,
    "start_time": "2024-06-21T15:14:27.506Z"
   },
   {
    "duration": 0,
    "start_time": "2024-06-21T15:14:27.509Z"
   },
   {
    "duration": 10,
    "start_time": "2024-06-21T15:17:21.650Z"
   },
   {
    "duration": 1443,
    "start_time": "2024-06-21T15:17:30.450Z"
   },
   {
    "duration": 309,
    "start_time": "2024-06-21T15:17:31.897Z"
   }
  ],
  "kernelspec": {
   "display_name": "Python 3 (ipykernel)",
   "language": "python",
   "name": "python3"
  },
  "language_info": {
   "codemirror_mode": {
    "name": "ipython",
    "version": 3
   },
   "file_extension": ".py",
   "mimetype": "text/x-python",
   "name": "python",
   "nbconvert_exporter": "python",
   "pygments_lexer": "ipython3",
   "version": "3.9.19"
  },
  "toc": {
   "base_numbering": 1,
   "nav_menu": {},
   "number_sections": true,
   "sideBar": true,
   "skip_h1_title": true,
   "title_cell": "Table of Contents",
   "title_sidebar": "Contents",
   "toc_cell": false,
   "toc_position": {
    "height": "calc(100% - 180px)",
    "left": "10px",
    "top": "150px",
    "width": "232.358px"
   },
   "toc_section_display": true,
   "toc_window_display": false
  }
 },
 "nbformat": 4,
 "nbformat_minor": 4
}
